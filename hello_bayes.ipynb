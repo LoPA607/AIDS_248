{
  "cells": [
    {
      "cell_type": "markdown",
      "metadata": {
        "id": "view-in-github",
        "colab_type": "text"
      },
      "source": [
        "<a href=\"https://colab.research.google.com/github/LoPA607/AIDS_248/blob/main/hello_bayes.ipynb\" target=\"_parent\"><img src=\"https://colab.research.google.com/assets/colab-badge.svg\" alt=\"Open In Colab\"/></a>"
      ]
    },
    {
      "cell_type": "markdown",
      "id": "e096cd67",
      "metadata": {
        "id": "e096cd67"
      },
      "source": [
        "# Hello Bayes!"
      ]
    },
    {
      "cell_type": "code",
      "execution_count": null,
      "id": "4d0405c9",
      "metadata": {
        "id": "4d0405c9"
      },
      "outputs": [],
      "source": [
        "%matplotlib inline\n",
        "import numpy as np\n",
        "from matplotlib import pyplot as plt"
      ]
    },
    {
      "cell_type": "markdown",
      "id": "10989963",
      "metadata": {
        "id": "10989963"
      },
      "source": [
        "## Recall some theory\n",
        "\n",
        "- Let $H$ be the hypothesis, let $E$ be the evidence or data, then recall that:\n",
        "\n",
        "$$\n",
        "f(H|E) = \\frac{f(E|H) f(H)}{f(E)}   \n",
        "$$\n",
        "\n",
        "- Specifically for an unknown parameter $\\theta$ and\n",
        "- A sample with data $x_1,\\ldots,x_n$,\n",
        "- We have\n",
        "\n",
        "$$\\begin{aligned}\n",
        "f(\\theta|x_1,\\ldots,x_n) &=\n",
        "\\frac{f(\\theta, x_1, \\ldots, x_n)}{f(x_1, \\ldots, x_n)} \\\\\n",
        "&= \\frac{p(\\theta)f(x_1, \\ldots, x_n|\\theta)}{\\int f(x_1, \\ldots,\n",
        "x_n|\\theta) p(\\theta) d\\theta}\n",
        "\\end{aligned}$$"
      ]
    },
    {
      "cell_type": "markdown",
      "id": "6a84e33a",
      "metadata": {
        "id": "6a84e33a"
      },
      "source": [
        "## Problem\n",
        "\n",
        "* Consider a coin which may be biased or not.\n",
        "* We want to assess the parameter, $p$ but using a Bayesian approach.\n",
        "* $p$ is our unknown $\\theta$\n",
        "* Want to estimate the distribution of $p$ from an initial guess/belief and data\n",
        "\n",
        "## Generating the data"
      ]
    },
    {
      "cell_type": "code",
      "execution_count": null,
      "id": "e0cc8376",
      "metadata": {
        "lines_to_next_cell": 0,
        "id": "e0cc8376"
      },
      "outputs": [],
      "source": [
        "N = 50\n",
        "data = np.random.choice([0, 1], size=N)"
      ]
    },
    {
      "cell_type": "markdown",
      "id": "88a7c8e5",
      "metadata": {
        "id": "88a7c8e5"
      },
      "source": [
        "## Setting up the problem\n",
        "\n",
        "* Assume a prior, we start with a uniform distribution\n",
        "* We need the likelihood function: $f(x| \\theta) = \\theta^x (1-\\theta)^{1-x}$\n",
        "* Samples are independent so we can easily construct the joint likelihood.\n",
        "* We solve the problem by numerical integration\n",
        "* Recall that we are looking to find $\\theta$\n",
        "    * Fix the domain to 100 points between 0 and 1."
      ]
    },
    {
      "cell_type": "markdown",
      "id": "a475af7f",
      "metadata": {
        "id": "a475af7f"
      },
      "source": [
        "## Back to the problem at hand"
      ]
    },
    {
      "cell_type": "code",
      "execution_count": null,
      "id": "767737c2",
      "metadata": {
        "id": "767737c2"
      },
      "outputs": [],
      "source": [
        "nt = 100\n",
        "d_theta = 1.0/nt\n",
        "domain = np.arange(d_theta/2, 1, d_theta)"
      ]
    },
    {
      "cell_type": "code",
      "execution_count": null,
      "id": "2402284f",
      "metadata": {
        "lines_to_next_cell": 2,
        "id": "2402284f"
      },
      "outputs": [],
      "source": [
        "def likelihood(theta, data):\n",
        "    \"\"\"Assumes that theta is a scalar\"\"\"\n",
        "    return np.prod(np.pow(theta, data)*np.pow(1-theta, 1-data))\n",
        "\n",
        "@np.vectorize\n",
        "def prior_func(theta):\n",
        "    if (theta < 0.0) or (theta > 1.0):\n",
        "        return 0.0\n",
        "    else:\n",
        "        return 1.0"
      ]
    },
    {
      "cell_type": "code",
      "execution_count": null,
      "id": "22e1ea71",
      "metadata": {
        "id": "22e1ea71"
      },
      "outputs": [],
      "source": [
        "def integral_dnr(l, prior, dtheta):\n",
        "    \"\"\"Assumes that l and prior are uniformly discretized\"\"\"\n",
        "    return np.sum(l*prior)*dtheta\n",
        ""
      ]
    },
    {
      "cell_type": "code",
      "execution_count": null,
      "id": "a3df1fb7",
      "metadata": {
        "id": "a3df1fb7"
      },
      "outputs": [],
      "source": [
        "lh = []\n",
        "for t in domain:\n",
        "    lh.append(likelihood(t, data))\n",
        "lh = np.array(lh)"
      ]
    },
    {
      "cell_type": "markdown",
      "id": "c1125729",
      "metadata": {
        "id": "c1125729"
      },
      "source": [
        "## Aside: list comprehensions"
      ]
    },
    {
      "cell_type": "code",
      "execution_count": null,
      "id": "905dffe3",
      "metadata": {
        "id": "905dffe3"
      },
      "outputs": [],
      "source": [
        "[i*i for i in range(5)]"
      ]
    },
    {
      "cell_type": "code",
      "execution_count": null,
      "id": "bd10acdd",
      "metadata": {
        "id": "bd10acdd"
      },
      "outputs": [],
      "source": [
        "[(i, i*i) for i in range(5)]"
      ]
    },
    {
      "cell_type": "code",
      "execution_count": null,
      "id": "f8e4c0f7",
      "metadata": {
        "id": "f8e4c0f7"
      },
      "outputs": [],
      "source": [
        "[i*i for i in range(5) if i%2 == 0]"
      ]
    },
    {
      "cell_type": "markdown",
      "id": "78f828bb",
      "metadata": {
        "id": "78f828bb"
      },
      "source": [
        "## Back to the problem"
      ]
    },
    {
      "cell_type": "code",
      "execution_count": null,
      "id": "a2bdbdee",
      "metadata": {
        "id": "a2bdbdee"
      },
      "outputs": [],
      "source": [
        "lh = np.array([likelihood(t, data) for t in domain])"
      ]
    },
    {
      "cell_type": "code",
      "execution_count": null,
      "id": "3205eb16",
      "metadata": {
        "id": "3205eb16"
      },
      "outputs": [],
      "source": [
        "prior = prior_func(domain)"
      ]
    },
    {
      "cell_type": "code",
      "execution_count": null,
      "id": "f309c93e",
      "metadata": {
        "id": "f309c93e"
      },
      "outputs": [],
      "source": [
        "dnr = integral_dnr(lh, prior, d_theta)"
      ]
    },
    {
      "cell_type": "code",
      "execution_count": null,
      "id": "6ebb143e",
      "metadata": {
        "id": "6ebb143e"
      },
      "outputs": [],
      "source": [
        "posterior = prior*lh/dnr"
      ]
    },
    {
      "cell_type": "code",
      "execution_count": null,
      "id": "63de2d36",
      "metadata": {
        "id": "63de2d36"
      },
      "outputs": [],
      "source": [
        "plt.plot(domain, posterior)"
      ]
    },
    {
      "cell_type": "markdown",
      "id": "88e38b92",
      "metadata": {
        "id": "88e38b92"
      },
      "source": [
        "## Textbook answer\n",
        "\n",
        "- $x=\\sum_i x_i$\n",
        "\n",
        "$$f(\\theta|x_1,\\ldots,x_n) = \\frac{(n+1)! \\theta^x (1-\\theta)^{n-x}}{x! (n-x)!}$$\n"
      ]
    },
    {
      "cell_type": "code",
      "execution_count": null,
      "id": "4b417399",
      "metadata": {
        "id": "4b417399"
      },
      "outputs": [],
      "source": [
        "from scipy.special import factorial\n",
        "\n",
        "def f_exact(theta, x, n):\n",
        "    return factorial(n+1)*theta**x*(1-theta)**(n-x)/(factorial(x)*factorial(n-x))"
      ]
    },
    {
      "cell_type": "code",
      "execution_count": null,
      "id": "0f5753b9",
      "metadata": {
        "lines_to_next_cell": 2,
        "id": "0f5753b9"
      },
      "outputs": [],
      "source": [
        "plt.plot(domain, posterior, label='Computed')\n",
        "x = np.sum(data)\n",
        "plt.plot(domain, f_exact(domain, x, N), label='Exact')\n",
        "plt.legend();"
      ]
    },
    {
      "cell_type": "markdown",
      "id": "bde89e6a",
      "metadata": {
        "id": "bde89e6a"
      },
      "source": [
        "## Bayes estimator\n",
        "\n",
        "- Best estimate of $\\theta$ is the mean of the posterior:\n",
        "\n",
        "$$E[\\theta|X_1=x_1, \\ldots, X_n=x_n] = \\int \\theta f(\\theta|x_1,\\ldots,x_n)\n",
        "d\\theta$$"
      ]
    },
    {
      "cell_type": "code",
      "execution_count": null,
      "id": "0d51f681",
      "metadata": {
        "lines_to_next_cell": 2,
        "id": "0d51f681"
      },
      "outputs": [],
      "source": [
        "# Homework"
      ]
    },
    {
      "cell_type": "markdown",
      "id": "956ed032",
      "metadata": {
        "id": "956ed032"
      },
      "source": [
        "## Textbook answer"
      ]
    },
    {
      "cell_type": "markdown",
      "id": "00bdba76",
      "metadata": {
        "id": "00bdba76"
      },
      "source": [
        "$$E[\\theta|X_1=x_1, \\ldots, X_n=x_n] = \\frac{x+1}{n+2}$$"
      ]
    },
    {
      "cell_type": "markdown",
      "id": "d5e1b654",
      "metadata": {
        "id": "d5e1b654"
      },
      "source": [
        "## Aside: doing this a bit faster\n",
        "\n",
        "- Looping to get the likelihoods is OK but not so nice\n",
        "- It can also be slow\n",
        "- We can instead use numpy broadcasting smartly to do this better.\n",
        "\n",
        "## Broadcasting rules\n",
        "\n",
        "- Consider `A <operator> B`\n",
        "\n",
        "- Compare their shapes element-wise starting with the rightmost dimension\n",
        "  going left.\n",
        "\n",
        "- Two dimensions are compatible if:\n",
        "\n",
        "  - they are equal\n",
        "  - or one of them is 1\n",
        "\n",
        "- Do not need the same number of dimensions\n",
        "\n",
        "## Examples\n",
        "\n",
        "- From the documentation!\n",
        "\n",
        "```\n",
        "Image  (3d array): 256 x 256 x 3\n",
        "Scale  (1d array):             3\n",
        "Result (3d array): 256 x 256 x 3\n",
        "```\n",
        "\n",
        "```\n",
        "A      (4d array):  8 x 1 x 6 x 1\n",
        "B      (3d array):      7 x 1 x 5\n",
        "Result (4d array):  8 x 7 x 6 x 5\n",
        "```\n",
        "\n",
        "## More examples"
      ]
    },
    {
      "cell_type": "code",
      "execution_count": null,
      "id": "9523c387",
      "metadata": {
        "id": "9523c387"
      },
      "outputs": [],
      "source": [
        "a = np.fromfunction(lambda i, j: 10*i, (4, 3))\n",
        "a"
      ]
    },
    {
      "cell_type": "code",
      "execution_count": null,
      "id": "2382a1fe",
      "metadata": {
        "id": "2382a1fe"
      },
      "outputs": [],
      "source": [
        "b = np.array([1.0, 2.0, 3.0, 4.0])\n",
        "a + b"
      ]
    },
    {
      "cell_type": "code",
      "execution_count": null,
      "id": "a8a303ac",
      "metadata": {
        "id": "a8a303ac"
      },
      "outputs": [],
      "source": [
        "b = np.array([1.0, 2.0, 3.0, 4.0]).reshape((4, 1))\n",
        "a + b"
      ]
    },
    {
      "cell_type": "markdown",
      "id": "b9fb539c",
      "metadata": {
        "id": "b9fb539c"
      },
      "source": [
        "## Introducing a new axis\n",
        "\n",
        "- Use `np.newaxis` or `None`"
      ]
    },
    {
      "cell_type": "code",
      "execution_count": null,
      "id": "c6d8db57",
      "metadata": {
        "id": "c6d8db57"
      },
      "outputs": [],
      "source": [
        "a = np.array([0.0, 10.0, 20.0, 30.0])\n",
        "b = np.array([1.0, 2.0, 3.0])"
      ]
    },
    {
      "cell_type": "code",
      "execution_count": null,
      "id": "f1219a35",
      "metadata": {
        "id": "f1219a35"
      },
      "outputs": [],
      "source": [
        "a[:, np.newaxis] + b"
      ]
    },
    {
      "cell_type": "code",
      "execution_count": null,
      "id": "88ada390",
      "metadata": {
        "id": "88ada390"
      },
      "outputs": [],
      "source": [
        "a[:, None] + b"
      ]
    },
    {
      "cell_type": "markdown",
      "id": "40789cda",
      "metadata": {
        "id": "40789cda"
      },
      "source": [
        "## Back to our problem\n",
        "\n",
        "Instead of looping to get the likelihood, we can use broadcasting"
      ]
    },
    {
      "cell_type": "code",
      "execution_count": null,
      "id": "611a0d73",
      "metadata": {
        "id": "611a0d73"
      },
      "outputs": [],
      "source": [
        "data = np.random.choice([0, 1], size=5)\n",
        "theta = 0.1\n",
        "np.prod(np.pow(theta, data)*np.pow(1-theta, 1-data))"
      ]
    },
    {
      "cell_type": "code",
      "execution_count": null,
      "id": "7b8235c2",
      "metadata": {
        "id": "7b8235c2"
      },
      "outputs": [],
      "source": [
        "theta = np.array([0.1, 0.2])\n",
        "btheta = theta[:,None]\n",
        "print(btheta.shape)\n",
        "print(btheta)"
      ]
    },
    {
      "cell_type": "code",
      "execution_count": null,
      "id": "160f4a75",
      "metadata": {
        "id": "160f4a75"
      },
      "outputs": [],
      "source": [
        "(btheta*data).shape"
      ]
    },
    {
      "cell_type": "code",
      "execution_count": null,
      "id": "10d2fdd8",
      "metadata": {
        "lines_to_next_cell": 0,
        "id": "10d2fdd8"
      },
      "outputs": [],
      "source": [
        "np.prod(np.pow(btheta, data)*np.pow(1-btheta, 1-data), axis=1)"
      ]
    },
    {
      "cell_type": "markdown",
      "id": "21bafb8c",
      "metadata": {
        "id": "21bafb8c"
      },
      "source": [
        "- Can understand this better by looking at:"
      ]
    },
    {
      "cell_type": "code",
      "execution_count": null,
      "id": "31adaa1f",
      "metadata": {
        "id": "31adaa1f"
      },
      "outputs": [],
      "source": [
        "np.broadcast_arrays(btheta, data)"
      ]
    },
    {
      "cell_type": "markdown",
      "id": "1bef111e",
      "metadata": {
        "id": "1bef111e"
      },
      "source": [
        "## Using this for calculation"
      ]
    },
    {
      "cell_type": "code",
      "execution_count": null,
      "id": "3eaac5db",
      "metadata": {
        "id": "3eaac5db"
      },
      "outputs": [],
      "source": [
        "def likelihood(theta, data):\n",
        "    btheta = theta[:,None]\n",
        "    return np.prod(np.pow(btheta, data)*np.pow(1-btheta, 1-data), axis=1)"
      ]
    },
    {
      "cell_type": "code",
      "execution_count": null,
      "id": "f5821407",
      "metadata": {
        "id": "f5821407"
      },
      "outputs": [],
      "source": [
        "def calc_posterior(theta, data, prior, likelihood):\n",
        "    \"\"\"Assumes that theta is uniformly spaced.\"\"\"\n",
        "    lh = likelihood(theta, data)\n",
        "    d_theta = theta[1] - theta[0]\n",
        "    dnr = integral_dnr(lh, prior, d_theta)\n",
        "    post = lh*prior/dnr\n",
        "    return post"
      ]
    },
    {
      "cell_type": "code",
      "execution_count": null,
      "id": "2f00942d",
      "metadata": {
        "id": "2f00942d"
      },
      "outputs": [],
      "source": [
        "posterior = calc_posterior(domain, data, prior_func(domain), likelihood)"
      ]
    },
    {
      "cell_type": "code",
      "execution_count": null,
      "id": "32d66d0c",
      "metadata": {
        "id": "32d66d0c"
      },
      "outputs": [],
      "source": [
        "plt.plot(domain, posterior)"
      ]
    },
    {
      "cell_type": "markdown",
      "id": "45e15fa0",
      "metadata": {
        "id": "45e15fa0"
      },
      "source": [
        "## Incremental updates of posterior\n",
        "\n",
        "- Can add data to update the posterior"
      ]
    },
    {
      "cell_type": "code",
      "execution_count": null,
      "id": "911e1b41",
      "metadata": {
        "id": "911e1b41"
      },
      "outputs": [],
      "source": [
        "data = np.random.choice([0, 1], size=5)"
      ]
    },
    {
      "cell_type": "code",
      "execution_count": null,
      "id": "69b80d05",
      "metadata": {
        "lines_to_next_cell": 0,
        "id": "69b80d05"
      },
      "outputs": [],
      "source": [
        "post = calc_posterior(domain, data, post, likelihood)"
      ]
    },
    {
      "cell_type": "code",
      "execution_count": null,
      "id": "6388f5f7",
      "metadata": {
        "id": "6388f5f7"
      },
      "outputs": [],
      "source": [
        "plt.plot(domain, post)"
      ]
    },
    {
      "cell_type": "code",
      "execution_count": null,
      "id": "8c6d2bf3",
      "metadata": {
        "id": "8c6d2bf3"
      },
      "outputs": [],
      "source": []
    }
  ],
  "metadata": {
    "jupytext": {
      "cell_metadata_filter": "-all",
      "main_language": "python",
      "notebook_metadata_filter": "-all"
    },
    "colab": {
      "provenance": [],
      "include_colab_link": true
    }
  },
  "nbformat": 4,
  "nbformat_minor": 5
}