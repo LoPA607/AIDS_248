{
  "nbformat": 4,
  "nbformat_minor": 0,
  "metadata": {
    "colab": {
      "provenance": [],
      "authorship_tag": "ABX9TyMuJj1T/cehPYnnBX1IksUb",
      "include_colab_link": true
    },
    "kernelspec": {
      "name": "python3",
      "display_name": "Python 3"
    },
    "language_info": {
      "name": "python"
    }
  },
  "cells": [
    {
      "cell_type": "markdown",
      "metadata": {
        "id": "view-in-github",
        "colab_type": "text"
      },
      "source": [
        "<a href=\"https://colab.research.google.com/github/LoPA607/AIDS_248/blob/main/Assignment_1.ipynb\" target=\"_parent\"><img src=\"https://colab.research.google.com/assets/colab-badge.svg\" alt=\"Open In Colab\"/></a>"
      ]
    },
    {
      "cell_type": "markdown",
      "source": [
        "<b> Implement a probabilistic programming solution of the Monty Hall problem as discussed in the mid-semester exam. For your reference here is the problem:\n",
        "\n",
        "Suppose you're on a game show, and you're given the choice of three doors:\n",
        "Behind one door is a car; behind the others, goats. You pick a door, say No.\n",
        "1, and the host, who knows what's behind the doors, opens another door, say\n",
        "No. 3, which has a goat. He then says to you, `Do you want to pick door No.\n",
        "2?' Is it to your advantage to switch your choice?   <b>"
      ],
      "metadata": {
        "id": "2V8NeDCqto4o"
      }
    },
    {
      "cell_type": "markdown",
      "source": [
        "#<B>Logic Applied:<B>\n",
        "\n",
        "\n",
        "*   First placed car randomly behind any of the three doors\n",
        "*   Contestant makes a choice\n",
        "*   Monty (the host) opens the door behind which car does not exists and it is not the contestant's choice also\n",
        "*   Compute the door to switch which is not opened early\n",
        "*   Check if switching door wins\n",
        "*   Check if the original choice wins.\n",
        "\n",
        "\n"
      ],
      "metadata": {
        "id": "sqvTPPbi_XFt"
      }
    },
    {
      "cell_type": "code",
      "source": [
        "import numpy as np"
      ],
      "metadata": {
        "id": "rsOkxvb5tq-G"
      },
      "execution_count": 1,
      "outputs": []
    },
    {
      "cell_type": "code",
      "source": [
        "def monty_hall(n):\n",
        "  switch_wins=0; #to store wins after switching\n",
        "  non_switch_wins=0  #to store wins for original choice\n",
        "  for i in range(n):\n",
        "    car=np.random.randint(3)  #randomly placing car behind any of the three doors\n",
        "    choice=np.random.randint(3)   #Choice by contestant\n",
        "    open=np.random.randint(3)   #Host opens the door that is not car and not contestants choice\n",
        "    while open==car or open==choice:\n",
        "      open=np.random.randint(3)\n",
        "    switch=3-open-choice    #choose the door to switch\n",
        "    if(switch==car):\n",
        "      switch_wins=switch_wins+1\n",
        "    if(choice==car):\n",
        "      non_switch_wins=non_switch_wins+1\n",
        "  return switch_wins/n, non_switch_wins/n\n"
      ],
      "metadata": {
        "id": "JNUXDvF1twOu"
      },
      "execution_count": 3,
      "outputs": []
    },
    {
      "cell_type": "code",
      "source": [
        "n=100000\n",
        "switch_wins,non_switch_wins=monty_hall(n)\n",
        "print(\"Switch wins: \",switch_wins)\n",
        "print(\"Non switch wins: \",non_switch_wins)"
      ],
      "metadata": {
        "colab": {
          "base_uri": "https://localhost:8080/"
        },
        "id": "3GG5ewA0_Vzf",
        "outputId": "fa6404e6-7993-4d1e-dc1e-50aa6e8a5f28"
      },
      "execution_count": 4,
      "outputs": [
        {
          "output_type": "stream",
          "name": "stdout",
          "text": [
            "Switch wins:  0.66684\n",
            "Non switch wins:  0.33316\n"
          ]
        }
      ]
    },
    {
      "cell_type": "markdown",
      "source": [
        "Now check if it is advantageous to switch or not"
      ],
      "metadata": {
        "id": "2bpHLGSIBhOP"
      }
    },
    {
      "cell_type": "code",
      "source": [
        "if switch_wins > non_switch_wins:\n",
        "    print(\"Switching is more advantageous.\")\n",
        "else:\n",
        "    print(\"Keeping the initial choice is more advantageous.\")\n"
      ],
      "metadata": {
        "colab": {
          "base_uri": "https://localhost:8080/"
        },
        "id": "B4v-pSxCBaso",
        "outputId": "cc6c570a-394e-4690-d45a-29ce0a293685"
      },
      "execution_count": 5,
      "outputs": [
        {
          "output_type": "stream",
          "name": "stdout",
          "text": [
            "Switching is more advantageous.\n"
          ]
        }
      ]
    },
    {
      "cell_type": "code",
      "source": [],
      "metadata": {
        "id": "QJxNLhmeCE7j"
      },
      "execution_count": null,
      "outputs": []
    }
  ]
}