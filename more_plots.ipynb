{
  "cells": [
    {
      "cell_type": "markdown",
      "metadata": {
        "id": "view-in-github",
        "colab_type": "text"
      },
      "source": [
        "<a href=\"https://colab.research.google.com/github/LoPA607/AIDS_248/blob/main/more_plots.ipynb\" target=\"_parent\"><img src=\"https://colab.research.google.com/assets/colab-badge.svg\" alt=\"Open In Colab\"/></a>"
      ]
    },
    {
      "cell_type": "code",
      "execution_count": null,
      "id": "30f091f9",
      "metadata": {
        "id": "30f091f9"
      },
      "outputs": [],
      "source": [
        "%pylab inline"
      ]
    },
    {
      "cell_type": "markdown",
      "id": "c5fa18f6",
      "metadata": {
        "lines_to_next_cell": 2,
        "id": "c5fa18f6"
      },
      "source": [
        "## More plotting\n",
        "\n",
        "- Descriptive statistics\n",
        "- Other statistical plots"
      ]
    },
    {
      "cell_type": "markdown",
      "id": "d0489c59",
      "metadata": {
        "id": "d0489c59"
      },
      "source": [
        "## Mean, std-dev, percentiles, ...\n"
      ]
    },
    {
      "cell_type": "code",
      "execution_count": null,
      "id": "9ab07d27",
      "metadata": {
        "id": "9ab07d27"
      },
      "outputs": [],
      "source": [
        "x = np.array([3, 2, 1, 4, 4.23, 5, 15, 24, 22, 25, 18, 32, 33])"
      ]
    },
    {
      "cell_type": "code",
      "execution_count": null,
      "id": "cc61dd87",
      "metadata": {
        "lines_to_next_cell": 2,
        "id": "cc61dd87"
      },
      "outputs": [],
      "source": [
        "x"
      ]
    },
    {
      "cell_type": "markdown",
      "id": "cd28cdec",
      "metadata": {
        "id": "cd28cdec"
      },
      "source": [
        "<br/>"
      ]
    },
    {
      "cell_type": "code",
      "execution_count": null,
      "id": "517f0367",
      "metadata": {
        "id": "517f0367"
      },
      "outputs": [],
      "source": [
        "#np.percentile(x, 80)\n",
        "np.percentile(x, 50)"
      ]
    },
    {
      "cell_type": "code",
      "execution_count": null,
      "id": "9c0f5844",
      "metadata": {
        "id": "9c0f5844"
      },
      "outputs": [],
      "source": [
        "np.percentile(x, [25, 50, 75, 90])"
      ]
    },
    {
      "cell_type": "markdown",
      "id": "920ebcbd",
      "metadata": {
        "id": "920ebcbd"
      },
      "source": [
        "## Exercise\n",
        "\n",
        "- Find the percentiles from 0 to 100\n",
        "- Plot them\n"
      ]
    },
    {
      "cell_type": "code",
      "execution_count": null,
      "id": "b88c232d",
      "metadata": {
        "id": "b88c232d"
      },
      "outputs": [],
      "source": [
        "x = np.linspace(0, 2*pi, 10000)\n",
        "y = np.sin(x)"
      ]
    },
    {
      "cell_type": "markdown",
      "id": "b1c3b1f2",
      "metadata": {
        "id": "b1c3b1f2"
      },
      "source": [
        "<br/>"
      ]
    },
    {
      "cell_type": "code",
      "execution_count": null,
      "id": "5fe2d714",
      "metadata": {
        "lines_to_next_cell": 2,
        "id": "5fe2d714"
      },
      "outputs": [],
      "source": [
        "# Solution\n",
        "q = np.linspace(0, 100, 100)\n",
        "plot(q, np.percentile(y, q));\n",
        "#plot(x, y)\n",
        "grid();"
      ]
    },
    {
      "cell_type": "markdown",
      "id": "1b1180dd",
      "metadata": {
        "id": "1b1180dd"
      },
      "source": [
        "## Histograms"
      ]
    },
    {
      "cell_type": "code",
      "execution_count": null,
      "id": "4df05edc",
      "metadata": {
        "lines_to_next_cell": 2,
        "id": "4df05edc"
      },
      "outputs": [],
      "source": [
        "# Histogram\n",
        "hist(y);"
      ]
    },
    {
      "cell_type": "code",
      "execution_count": null,
      "id": "979b13d0",
      "metadata": {
        "id": "979b13d0"
      },
      "outputs": [],
      "source": [
        "hist(y, bins=20);"
      ]
    },
    {
      "cell_type": "markdown",
      "id": "b86fdfa9",
      "metadata": {
        "id": "b86fdfa9"
      },
      "source": [
        "\n",
        "- Cumulative\n",
        "- Density\n"
      ]
    },
    {
      "cell_type": "code",
      "execution_count": null,
      "id": "4538ef97",
      "metadata": {
        "id": "4538ef97"
      },
      "outputs": [],
      "source": [
        "# Histogram\n",
        "hist(y, density=True, bins=200);"
      ]
    },
    {
      "cell_type": "code",
      "execution_count": null,
      "id": "99226a94",
      "metadata": {
        "id": "99226a94"
      },
      "outputs": [],
      "source": [
        "hist(y, bins=200, cumulative=True, density=True);"
      ]
    },
    {
      "cell_type": "markdown",
      "id": "d43b51f1",
      "metadata": {
        "id": "d43b51f1"
      },
      "source": [
        "## Load the given `data.txt` file\n",
        "\n",
        "- Load up the data file into numpy arrays.\n",
        "- Plot the two columns one vs the other with points.\n",
        "- Find the mean and standard deviation of each.\n",
        "- Plot the histogram of each column\n"
      ]
    },
    {
      "cell_type": "markdown",
      "id": "af83a1c5",
      "metadata": {
        "id": "af83a1c5"
      },
      "source": [
        "<br/>"
      ]
    },
    {
      "cell_type": "code",
      "execution_count": null,
      "id": "769c2d86",
      "metadata": {
        "id": "769c2d86"
      },
      "outputs": [],
      "source": [
        "x, y = loadtxt('data.txt', unpack=True)"
      ]
    },
    {
      "cell_type": "code",
      "execution_count": null,
      "id": "fd6dd214",
      "metadata": {
        "id": "fd6dd214"
      },
      "outputs": [],
      "source": [
        "data = loadtxt('data.txt')"
      ]
    },
    {
      "cell_type": "code",
      "execution_count": null,
      "id": "444bf2f4",
      "metadata": {
        "id": "444bf2f4"
      },
      "outputs": [],
      "source": [
        "col1, col2 = data.T"
      ]
    },
    {
      "cell_type": "code",
      "execution_count": null,
      "id": "ed7d91bb",
      "metadata": {
        "lines_to_next_cell": 2,
        "id": "ed7d91bb"
      },
      "outputs": [],
      "source": [
        "#plt.plot(x, y, '.')\n",
        "scatter(x, y)"
      ]
    },
    {
      "cell_type": "markdown",
      "id": "572e5caa",
      "metadata": {
        "id": "572e5caa"
      },
      "source": [
        "<br/>"
      ]
    },
    {
      "cell_type": "code",
      "execution_count": null,
      "id": "50d6c6c6",
      "metadata": {
        "id": "50d6c6c6"
      },
      "outputs": [],
      "source": [
        "#figure(figsize=(20, 10))\n",
        "scatter(x, sin(x*0.1) + randn(len(x)), s=(10*linspace(0.5, 1.5, len(x)))**2, c=x, alpha=0.5);\n",
        "colorbar();"
      ]
    },
    {
      "cell_type": "code",
      "execution_count": null,
      "id": "19b3f8f9",
      "metadata": {
        "id": "19b3f8f9"
      },
      "outputs": [],
      "source": [
        "scatter(x, sin(x*0.5))"
      ]
    },
    {
      "cell_type": "code",
      "execution_count": null,
      "id": "e33dcf70",
      "metadata": {
        "id": "e33dcf70"
      },
      "outputs": [],
      "source": [
        "min(x), max(x)"
      ]
    },
    {
      "cell_type": "code",
      "execution_count": null,
      "id": "a9217076",
      "metadata": {
        "id": "a9217076"
      },
      "outputs": [],
      "source": [
        "plot(x, sin(x))"
      ]
    },
    {
      "cell_type": "code",
      "execution_count": null,
      "id": "02af0536",
      "metadata": {
        "id": "02af0536"
      },
      "outputs": [],
      "source": [
        "x = linspace(0, pi, 1000)\n",
        "np.corrcoef(x, sin(x))"
      ]
    },
    {
      "cell_type": "markdown",
      "id": "4b69b3d5",
      "metadata": {
        "id": "4b69b3d5"
      },
      "source": [
        "## Sachin vs Kohli!\n",
        "\n",
        "- Exercise!\n"
      ]
    },
    {
      "cell_type": "code",
      "execution_count": null,
      "id": "9f93115b",
      "metadata": {
        "id": "9f93115b"
      },
      "outputs": [],
      "source": [
        "ks = loadtxt('kohli.txt')\n",
        "ss = loadtxt('sachin.txt')\n",
        "ks.shape, ss.shape"
      ]
    },
    {
      "cell_type": "code",
      "execution_count": null,
      "id": "ff3bec33",
      "metadata": {
        "id": "ff3bec33"
      },
      "outputs": [],
      "source": [
        "#figure(figsize=(20, 10))\n",
        "hist(ss, bins=40, density=True);"
      ]
    },
    {
      "cell_type": "markdown",
      "id": "0b0458c9",
      "metadata": {
        "id": "0b0458c9"
      },
      "source": [
        "## Showing it together"
      ]
    },
    {
      "cell_type": "code",
      "execution_count": null,
      "id": "a2e2190b",
      "metadata": {
        "id": "a2e2190b"
      },
      "outputs": [],
      "source": [
        "figure(figsize=(20, 10))\n",
        "hist((ss, ks), bins=20, density=True);\n",
        "legend(['Sachin', 'Kohli']);"
      ]
    },
    {
      "cell_type": "markdown",
      "id": "6144178a",
      "metadata": {
        "id": "6144178a"
      },
      "source": [
        "## Boxplots\n"
      ]
    },
    {
      "cell_type": "code",
      "execution_count": null,
      "id": "14d0d57d",
      "metadata": {
        "id": "14d0d57d"
      },
      "outputs": [],
      "source": [
        "figure(figsize=(20, 10))\n",
        "boxplot((ks, ss), showmeans=True);\n",
        "xticks([1, 2], ['Kohli', 'Sachin'])\n",
        "grid();"
      ]
    },
    {
      "cell_type": "code",
      "execution_count": null,
      "id": "fda4cd46",
      "metadata": {
        "id": "fda4cd46"
      },
      "outputs": [],
      "source": [
        "q1, q2, q3 = np.percentile(ks, [25, 50, 75])\n",
        "iqr = q3 - q1\n",
        "out = q3 + iqr*1.5\n",
        "print(iqr, q1, q2, q3, out)"
      ]
    },
    {
      "cell_type": "markdown",
      "id": "8d8b3ca9",
      "metadata": {
        "id": "8d8b3ca9"
      },
      "source": [
        "## Showing it together"
      ]
    },
    {
      "cell_type": "code",
      "execution_count": null,
      "id": "1092e90c",
      "metadata": {
        "lines_to_next_cell": 2,
        "id": "1092e90c"
      },
      "outputs": [],
      "source": [
        "#figure(figsize=(20, 10))\n",
        "boxplot((ks, ss), showmeans=True);\n",
        "xticks([1, 2], ['Kohli', 'Sachin'])\n",
        "grid();"
      ]
    },
    {
      "cell_type": "markdown",
      "id": "91c884b4",
      "metadata": {
        "id": "91c884b4"
      },
      "source": [
        "## Simple image processing\n",
        "\n",
        "- Load the image.\n",
        "- Show the image.\n",
        "- Drop every alternate pixel to reduce the size of the image\n",
        "- Crop the picture to only show the baby penguin.\n",
        "\n",
        "<img src=\"penguins.png\" alt=\"Sample plot\" width=\"50%\"></img>\n"
      ]
    },
    {
      "cell_type": "markdown",
      "id": "545d17f7",
      "metadata": {
        "id": "545d17f7"
      },
      "source": [
        "<br/>"
      ]
    },
    {
      "cell_type": "code",
      "execution_count": null,
      "id": "43693719",
      "metadata": {
        "id": "43693719"
      },
      "outputs": [],
      "source": [
        "colormaps();"
      ]
    },
    {
      "cell_type": "code",
      "execution_count": null,
      "id": "a32bc2a5",
      "metadata": {
        "id": "a32bc2a5"
      },
      "outputs": [],
      "source": [
        "figure(figsize=(10, 10))\n",
        "img = imread('penguins.png')\n",
        "print(img.shape)\n",
        "#imshow(img)\n",
        "imshow(img[:, :, 1], cmap='inferno');\n",
        "colorbar();"
      ]
    },
    {
      "cell_type": "code",
      "execution_count": null,
      "id": "73e4b74f",
      "metadata": {
        "id": "73e4b74f"
      },
      "outputs": [],
      "source": [
        "img = imread('penguins.png')\n",
        "figure(figsize=(10, 5))\n",
        "subplot(2, 2, 1)\n",
        "imshow(img)\n",
        "subplot(2, 2, 2)\n",
        "imshow(img[::2,::2])\n",
        "subplot(2, 2, 3)\n",
        "imshow(img[225:,100:250])\n",
        "subplot(2, 2, 4)\n",
        "imshow(img[:,:,0], cmap='gray');"
      ]
    },
    {
      "cell_type": "markdown",
      "id": "80fb806b",
      "metadata": {
        "id": "80fb806b"
      },
      "source": [
        "## Doing more"
      ]
    },
    {
      "cell_type": "code",
      "execution_count": null,
      "id": "47e179c6",
      "metadata": {
        "lines_to_next_cell": 0,
        "id": "47e179c6"
      },
      "outputs": [],
      "source": [
        "img1 = img.copy()\n",
        "# Set R to 0.0\n",
        "img1[:,:,3] = 1\n",
        "imshow(img1);\n",
        "imshow(img1[225:,100:250]);"
      ]
    },
    {
      "cell_type": "code",
      "execution_count": null,
      "id": "4e4356d7",
      "metadata": {
        "id": "4e4356d7"
      },
      "outputs": [],
      "source": [
        "# View of the data\n",
        "img[:,:,0].ravel().shape"
      ]
    },
    {
      "cell_type": "code",
      "execution_count": null,
      "id": "54988927",
      "metadata": {
        "id": "54988927"
      },
      "outputs": [],
      "source": [
        "# Histogram of the values!\n",
        "hist(img[:,:,0].ravel(), bins=50);"
      ]
    },
    {
      "cell_type": "markdown",
      "id": "c10bc84a",
      "metadata": {
        "id": "c10bc84a"
      },
      "source": [
        "## Putting it together"
      ]
    },
    {
      "cell_type": "code",
      "execution_count": null,
      "id": "35d3d5db",
      "metadata": {
        "id": "35d3d5db"
      },
      "outputs": [],
      "source": [
        "# Putting it together\n",
        "figure(figsize=(20, 10))\n",
        "print(numpy.ravel(img[:,:,0]).shape)\n",
        "for color in [0, 1, 2, 3]:\n",
        "    subplot(2, 2, color + 1)\n",
        "    hist(img[:,:,color].ravel(), bins=40, density=True, edgecolor='b');"
      ]
    },
    {
      "cell_type": "markdown",
      "id": "130b76ca",
      "metadata": {
        "id": "130b76ca"
      },
      "source": [
        "## Pie charts\n",
        "\n",
        "| **Cancer**  | Lung | Breast | Colon | Prostate | Melanoma | Bladder |\n",
        "|-------------|------|--------|-------|----------|----------|---------|\n",
        "| **Numbers** | 42   |  50    |  32   |   55     |  9       |  12     |\n"
      ]
    },
    {
      "cell_type": "code",
      "execution_count": null,
      "id": "4a7cf233",
      "metadata": {
        "id": "4a7cf233"
      },
      "outputs": [],
      "source": [
        "# Solution\n",
        "cancer = ['Lung', 'Breast', 'Colon', 'Prostate', 'Melanoma', 'Bladder']\n",
        "numbers = [42, 50, 32, 55, 9, 12]\n",
        "pie(numbers, labels=cancer);"
      ]
    },
    {
      "cell_type": "markdown",
      "id": "d5644ab5",
      "metadata": {
        "id": "d5644ab5"
      },
      "source": [
        "## Better to use a bar chart\n"
      ]
    },
    {
      "cell_type": "code",
      "execution_count": null,
      "id": "7103b9c8",
      "metadata": {
        "lines_to_next_cell": 2,
        "id": "7103b9c8"
      },
      "outputs": [],
      "source": [
        "# Solution\n",
        "x = np.arange(len(numbers))\n",
        "#figure(figsize=(20, 10))\n",
        "bar(x, numbers, tick_label=cancer);\n",
        "grid();"
      ]
    },
    {
      "cell_type": "markdown",
      "id": "5a31ba48",
      "metadata": {
        "id": "5a31ba48"
      },
      "source": [
        "## Violin plots!\n",
        "\n",
        "- Combine PDFs and\n",
        "- Recall the Kohli and Sachin data\n"
      ]
    },
    {
      "cell_type": "code",
      "execution_count": null,
      "id": "fc4701a7",
      "metadata": {
        "id": "fc4701a7"
      },
      "outputs": [],
      "source": [
        "ks = loadtxt('kohli.txt')\n",
        "ss = loadtxt('sachin.txt')\n",
        "figure(figsize=(20, 10))\n",
        "violinplot((ks, ss))\n",
        "xticks([1, 2], ['Kohli', 'Sachin']);\n",
        "grid();"
      ]
    },
    {
      "cell_type": "code",
      "execution_count": null,
      "id": "6705c237",
      "metadata": {
        "id": "6705c237"
      },
      "outputs": [],
      "source": []
    }
  ],
  "metadata": {
    "kernelspec": {
      "display_name": "Python 3 (ipykernel)",
      "language": "python",
      "name": "python3"
    },
    "colab": {
      "provenance": [],
      "include_colab_link": true
    }
  },
  "nbformat": 4,
  "nbformat_minor": 5
}