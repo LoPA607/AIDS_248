{
 "cells": [
  {
   "cell_type": "markdown",
   "id": "be7784eb",
   "metadata": {},
   "source": [
    "Pandas\n",
    "======\n",
    "\n",
    "- Provides a powerful `DataFrame` object.\n",
    "- Makes it easy to deal with \"Tabular\" data.\n",
    "- Very easy to read, process and visualize data.\n",
    "- See http://pandas.pydata.org"
   ]
  },
  {
   "cell_type": "code",
   "execution_count": 2,
   "id": "da03b055",
   "metadata": {},
   "outputs": [],
   "source": [
    "%matplotlib inline\n",
    "import numpy as np\n",
    "import pandas as pd"
   ]
  },
  {
   "cell_type": "markdown",
   "id": "72bc2c83",
   "metadata": {},
   "source": [
    "Fundamentals\n",
    "--------------\n",
    "\n",
    "- Why do we need this?\n",
    "- Data is often **tabular**\n",
    "  - Imagine this class data!\n",
    "  - Each student has data values\n",
    "\n",
    "- Think of each student as a row\n",
    "- Each column as an attribute\n",
    "- So the columns are **aligned** using the row\n",
    "\n",
    "- With `pandas`, data alignment is **central**"
   ]
  },
  {
   "cell_type": "markdown",
   "id": "7a38d69b",
   "metadata": {},
   "source": [
    "Building block: `Series`\n",
    "-----------\n",
    "\n",
    "- \"Labels\" are collectively called the **index**\n",
    "\n",
    "- `Series`: bundles together an index and values\n",
    "- Index can be implicit or explicit\n"
   ]
  },
  {
   "cell_type": "code",
   "execution_count": 3,
   "id": "433f91ae",
   "metadata": {},
   "outputs": [
    {
     "data": {
      "text/plain": [
       "0   -0.015407\n",
       "1   -0.965222\n",
       "2   -0.649931\n",
       "3   -0.147824\n",
       "4   -1.941011\n",
       "dtype: float64"
      ]
     },
     "execution_count": 3,
     "metadata": {},
     "output_type": "execute_result"
    }
   ],
   "source": [
    "s = pd.Series(np.random.randn(5))\n",
    "s"
   ]
  },
  {
   "cell_type": "code",
   "execution_count": 4,
   "id": "8fcea3f8",
   "metadata": {},
   "outputs": [
    {
     "data": {
      "text/plain": [
       "a   -1.701888\n",
       "b   -0.335510\n",
       "c   -0.026161\n",
       "d    0.610543\n",
       "e   -0.456729\n",
       "dtype: float64"
      ]
     },
     "execution_count": 4,
     "metadata": {},
     "output_type": "execute_result"
    }
   ],
   "source": [
    "s = pd.Series(np.random.randn(5), index=[\"a\", \"b\", \"c\", \"d\", \"e\"])\n",
    "s"
   ]
  },
  {
   "cell_type": "markdown",
   "id": "b8366d8e",
   "metadata": {},
   "source": [
    "`Series`: some points to note\n",
    "---------\n",
    "\n",
    "- They behave like `numpy` arrays or dicts\n",
    "- But carry the index\n",
    "- All operations align on the label (i.e. index)\n",
    "- Unaligned series will use the union of indices\n",
    "- `NaN` is used to refer to missing values\n"
   ]
  },
  {
   "cell_type": "code",
   "execution_count": 5,
   "id": "b545344d",
   "metadata": {},
   "outputs": [
    {
     "data": {
      "text/plain": [
       "a    5.0\n",
       "b    4.0\n",
       "c    3.0\n",
       "d    2.0\n",
       "e    1.0\n",
       "dtype: float64"
      ]
     },
     "execution_count": 5,
     "metadata": {},
     "output_type": "execute_result"
    }
   ],
   "source": [
    "a = pd.Series(np.ones(5), index=[\"a\", \"b\", \"c\", \"d\", \"e\"])\n",
    "b = pd.Series(np.arange(5), index=[\"e\", \"d\", \"c\", \"b\", \"a\"])\n",
    "a + b"
   ]
  },
  {
   "cell_type": "code",
   "execution_count": 6,
   "id": "15e3cc63",
   "metadata": {},
   "outputs": [
    {
     "data": {
      "text/plain": [
       "dtype('float64')"
      ]
     },
     "execution_count": 6,
     "metadata": {},
     "output_type": "execute_result"
    }
   ],
   "source": [
    "a.dtype"
   ]
  },
  {
   "cell_type": "code",
   "execution_count": 7,
   "id": "708cc0c2",
   "metadata": {},
   "outputs": [
    {
     "data": {
      "text/plain": [
       "a    NaN\n",
       "b    4.0\n",
       "c    3.0\n",
       "d    2.0\n",
       "e    1.0\n",
       "dtype: float64"
      ]
     },
     "execution_count": 7,
     "metadata": {},
     "output_type": "execute_result"
    }
   ],
   "source": [
    "a = pd.Series(np.ones(5), index=[\"a\", \"b\", \"c\", \"d\", \"e\"])\n",
    "b = pd.Series(np.arange(4), index=[\"e\", \"d\", \"c\", \"b\"])\n",
    "a + b"
   ]
  },
  {
   "cell_type": "markdown",
   "id": "0e79fcdf",
   "metadata": {},
   "source": [
    "- Works with repeated labels too"
   ]
  },
  {
   "cell_type": "code",
   "execution_count": 8,
   "id": "a468b9a6",
   "metadata": {
    "lines_to_next_cell": 2
   },
   "outputs": [
    {
     "data": {
      "text/plain": [
       "a    1.0\n",
       "a    5.0\n",
       "b    4.0\n",
       "c    3.0\n",
       "d    2.0\n",
       "e    NaN\n",
       "dtype: float64"
      ]
     },
     "execution_count": 8,
     "metadata": {},
     "output_type": "execute_result"
    }
   ],
   "source": [
    "a = pd.Series(np.ones(5), index=[\"a\", \"b\", \"c\", \"d\", \"e\"])\n",
    "b = pd.Series(np.arange(5), index=[\"a\", \"d\", \"c\", \"b\", 'a'])\n",
    "a + b"
   ]
  },
  {
   "cell_type": "code",
   "execution_count": 10,
   "id": "a62793cd",
   "metadata": {},
   "outputs": [
    {
     "data": {
      "text/plain": [
       "a    2.0\n",
       "a    6.0\n",
       "b    5.0\n",
       "c    4.0\n",
       "d    3.0\n",
       "e    NaN\n",
       "dtype: float64"
      ]
     },
     "execution_count": 10,
     "metadata": {},
     "output_type": "execute_result"
    }
   ],
   "source": [
    "c = a + b"
   ]
  },
  {
   "cell_type": "markdown",
   "id": "153a0f25",
   "metadata": {},
   "source": [
    "Aside\n",
    "-------\n",
    "\n",
    "- `NaN` is a number!\n",
    "- Beware of them"
   ]
  },
  {
   "cell_type": "code",
   "execution_count": 11,
   "id": "13bdf8c5",
   "metadata": {},
   "outputs": [
    {
     "data": {
      "text/plain": [
       "(nan, nan)"
      ]
     },
     "execution_count": 11,
     "metadata": {},
     "output_type": "execute_result"
    }
   ],
   "source": [
    "float('nan'), float('NaN')"
   ]
  },
  {
   "cell_type": "code",
   "execution_count": 12,
   "id": "fc40bfc9",
   "metadata": {},
   "outputs": [
    {
     "data": {
      "text/plain": [
       "float"
      ]
     },
     "execution_count": 12,
     "metadata": {},
     "output_type": "execute_result"
    }
   ],
   "source": [
    "type(float('nan'))"
   ]
  },
  {
   "cell_type": "code",
   "execution_count": 14,
   "id": "25a47018",
   "metadata": {},
   "outputs": [
    {
     "data": {
      "text/plain": [
       "nan"
      ]
     },
     "execution_count": 14,
     "metadata": {},
     "output_type": "execute_result"
    }
   ],
   "source": [
    "np.nan"
   ]
  },
  {
   "cell_type": "code",
   "execution_count": 15,
   "id": "057d48fa",
   "metadata": {},
   "outputs": [
    {
     "data": {
      "text/plain": [
       "np.float64(10.0)"
      ]
     },
     "execution_count": 15,
     "metadata": {},
     "output_type": "execute_result"
    }
   ],
   "source": [
    "x = np.arange(5, dtype=float)\n",
    "np.sum(x)"
   ]
  },
  {
   "cell_type": "code",
   "execution_count": 16,
   "id": "0a4dd7be",
   "metadata": {},
   "outputs": [
    {
     "data": {
      "text/plain": [
       "np.float64(nan)"
      ]
     },
     "execution_count": 16,
     "metadata": {},
     "output_type": "execute_result"
    }
   ],
   "source": [
    "x[0] = np.nan\n",
    "np.mean(x)"
   ]
  },
  {
   "cell_type": "markdown",
   "id": "3e785e15",
   "metadata": {},
   "source": [
    "- Use `np.nan*` functions\n",
    "- `np.isnan` is also handy\n"
   ]
  },
  {
   "cell_type": "code",
   "execution_count": 17,
   "id": "18cac0c0",
   "metadata": {
    "lines_to_next_cell": 2
   },
   "outputs": [
    {
     "data": {
      "text/plain": [
       "np.float64(10.0)"
      ]
     },
     "execution_count": 17,
     "metadata": {},
     "output_type": "execute_result"
    }
   ],
   "source": [
    "np.nansum(x)"
   ]
  },
  {
   "cell_type": "markdown",
   "id": "9ae179f4",
   "metadata": {},
   "source": [
    "`DataFrame` basics\n",
    "=======================\n",
    "\n",
    "- A table of data: a spreadsheet\n",
    "- Same index for all columns\n",
    "- Different data types per column\n",
    "\n"
   ]
  },
  {
   "cell_type": "code",
   "execution_count": 18,
   "id": "44f62955",
   "metadata": {},
   "outputs": [],
   "source": [
    "x = np.linspace(0, 2*np.pi, 100)\n",
    "sin = np.sin(x)\n",
    "cos = np.cos(x)"
   ]
  },
  {
   "cell_type": "code",
   "execution_count": 25,
   "id": "f5aa73d8",
   "metadata": {},
   "outputs": [],
   "source": [
    "j = pd.DataFrame(dict(x=[1, 2, 3], y=['hello', 'class', '2025']))"
   ]
  },
  {
   "cell_type": "code",
   "execution_count": 26,
   "id": "ce692d10",
   "metadata": {},
   "outputs": [
    {
     "data": {
      "text/html": [
       "<div>\n",
       "<style scoped>\n",
       "    .dataframe tbody tr th:only-of-type {\n",
       "        vertical-align: middle;\n",
       "    }\n",
       "\n",
       "    .dataframe tbody tr th {\n",
       "        vertical-align: top;\n",
       "    }\n",
       "\n",
       "    .dataframe thead th {\n",
       "        text-align: right;\n",
       "    }\n",
       "</style>\n",
       "<table border=\"1\" class=\"dataframe\">\n",
       "  <thead>\n",
       "    <tr style=\"text-align: right;\">\n",
       "      <th></th>\n",
       "      <th>x</th>\n",
       "    </tr>\n",
       "  </thead>\n",
       "  <tbody>\n",
       "    <tr>\n",
       "      <th>count</th>\n",
       "      <td>3.0</td>\n",
       "    </tr>\n",
       "    <tr>\n",
       "      <th>mean</th>\n",
       "      <td>2.0</td>\n",
       "    </tr>\n",
       "    <tr>\n",
       "      <th>std</th>\n",
       "      <td>1.0</td>\n",
       "    </tr>\n",
       "    <tr>\n",
       "      <th>min</th>\n",
       "      <td>1.0</td>\n",
       "    </tr>\n",
       "    <tr>\n",
       "      <th>25%</th>\n",
       "      <td>1.5</td>\n",
       "    </tr>\n",
       "    <tr>\n",
       "      <th>50%</th>\n",
       "      <td>2.0</td>\n",
       "    </tr>\n",
       "    <tr>\n",
       "      <th>75%</th>\n",
       "      <td>2.5</td>\n",
       "    </tr>\n",
       "    <tr>\n",
       "      <th>max</th>\n",
       "      <td>3.0</td>\n",
       "    </tr>\n",
       "  </tbody>\n",
       "</table>\n",
       "</div>"
      ],
      "text/plain": [
       "         x\n",
       "count  3.0\n",
       "mean   2.0\n",
       "std    1.0\n",
       "min    1.0\n",
       "25%    1.5\n",
       "50%    2.0\n",
       "75%    2.5\n",
       "max    3.0"
      ]
     },
     "execution_count": 26,
     "metadata": {},
     "output_type": "execute_result"
    }
   ],
   "source": [
    "j.describe()"
   ]
  },
  {
   "cell_type": "code",
   "execution_count": 27,
   "id": "bc3e8edc",
   "metadata": {},
   "outputs": [
    {
     "data": {
      "text/plain": [
       "{'a': [1, 2, 3], 'b': 'Hello'}"
      ]
     },
     "execution_count": 27,
     "metadata": {},
     "output_type": "execute_result"
    }
   ],
   "source": [
    "dict(a=[1, 2, 3], b='Hello')"
   ]
  },
  {
   "cell_type": "code",
   "execution_count": 42,
   "id": "2c552e33",
   "metadata": {},
   "outputs": [
    {
     "data": {
      "text/plain": [
       "x     int64\n",
       "y    object\n",
       "dtype: object"
      ]
     },
     "execution_count": 42,
     "metadata": {},
     "output_type": "execute_result"
    }
   ],
   "source": [
    "j.dtypes"
   ]
  },
  {
   "cell_type": "code",
   "execution_count": 28,
   "id": "dc90e045",
   "metadata": {},
   "outputs": [],
   "source": [
    "df = pd.DataFrame({'x': x, 'sin': sin, 'cos': cos, 'x-data':x})\n",
    "# OR\n",
    "#df = pd.DataFrame(dict(x=x, sin=sin, cos=cos))"
   ]
  },
  {
   "cell_type": "code",
   "execution_count": 29,
   "id": "9d0bb661",
   "metadata": {},
   "outputs": [
    {
     "data": {
      "text/html": [
       "<div>\n",
       "<style scoped>\n",
       "    .dataframe tbody tr th:only-of-type {\n",
       "        vertical-align: middle;\n",
       "    }\n",
       "\n",
       "    .dataframe tbody tr th {\n",
       "        vertical-align: top;\n",
       "    }\n",
       "\n",
       "    .dataframe thead th {\n",
       "        text-align: right;\n",
       "    }\n",
       "</style>\n",
       "<table border=\"1\" class=\"dataframe\">\n",
       "  <thead>\n",
       "    <tr style=\"text-align: right;\">\n",
       "      <th></th>\n",
       "      <th>x</th>\n",
       "      <th>sin</th>\n",
       "      <th>cos</th>\n",
       "      <th>x-data</th>\n",
       "    </tr>\n",
       "  </thead>\n",
       "  <tbody>\n",
       "    <tr>\n",
       "      <th>0</th>\n",
       "      <td>0.000000</td>\n",
       "      <td>0.000000</td>\n",
       "      <td>1.000000</td>\n",
       "      <td>0.000000</td>\n",
       "    </tr>\n",
       "    <tr>\n",
       "      <th>1</th>\n",
       "      <td>0.063467</td>\n",
       "      <td>0.063424</td>\n",
       "      <td>0.997987</td>\n",
       "      <td>0.063467</td>\n",
       "    </tr>\n",
       "    <tr>\n",
       "      <th>2</th>\n",
       "      <td>0.126933</td>\n",
       "      <td>0.126592</td>\n",
       "      <td>0.991955</td>\n",
       "      <td>0.126933</td>\n",
       "    </tr>\n",
       "    <tr>\n",
       "      <th>3</th>\n",
       "      <td>0.190400</td>\n",
       "      <td>0.189251</td>\n",
       "      <td>0.981929</td>\n",
       "      <td>0.190400</td>\n",
       "    </tr>\n",
       "    <tr>\n",
       "      <th>4</th>\n",
       "      <td>0.253866</td>\n",
       "      <td>0.251148</td>\n",
       "      <td>0.967949</td>\n",
       "      <td>0.253866</td>\n",
       "    </tr>\n",
       "  </tbody>\n",
       "</table>\n",
       "</div>"
      ],
      "text/plain": [
       "          x       sin       cos    x-data\n",
       "0  0.000000  0.000000  1.000000  0.000000\n",
       "1  0.063467  0.063424  0.997987  0.063467\n",
       "2  0.126933  0.126592  0.991955  0.126933\n",
       "3  0.190400  0.189251  0.981929  0.190400\n",
       "4  0.253866  0.251148  0.967949  0.253866"
      ]
     },
     "execution_count": 29,
     "metadata": {},
     "output_type": "execute_result"
    }
   ],
   "source": [
    "df.head() # or df.tail()"
   ]
  },
  {
   "cell_type": "code",
   "execution_count": 30,
   "id": "531ca5b3",
   "metadata": {},
   "outputs": [
    {
     "data": {
      "text/html": [
       "<div>\n",
       "<style scoped>\n",
       "    .dataframe tbody tr th:only-of-type {\n",
       "        vertical-align: middle;\n",
       "    }\n",
       "\n",
       "    .dataframe tbody tr th {\n",
       "        vertical-align: top;\n",
       "    }\n",
       "\n",
       "    .dataframe thead th {\n",
       "        text-align: right;\n",
       "    }\n",
       "</style>\n",
       "<table border=\"1\" class=\"dataframe\">\n",
       "  <thead>\n",
       "    <tr style=\"text-align: right;\">\n",
       "      <th></th>\n",
       "      <th>x</th>\n",
       "      <th>sin</th>\n",
       "      <th>cos</th>\n",
       "      <th>x-data</th>\n",
       "    </tr>\n",
       "  </thead>\n",
       "  <tbody>\n",
       "    <tr>\n",
       "      <th>95</th>\n",
       "      <td>6.029319</td>\n",
       "      <td>-2.511480e-01</td>\n",
       "      <td>0.967949</td>\n",
       "      <td>6.029319</td>\n",
       "    </tr>\n",
       "    <tr>\n",
       "      <th>96</th>\n",
       "      <td>6.092786</td>\n",
       "      <td>-1.892512e-01</td>\n",
       "      <td>0.981929</td>\n",
       "      <td>6.092786</td>\n",
       "    </tr>\n",
       "    <tr>\n",
       "      <th>97</th>\n",
       "      <td>6.156252</td>\n",
       "      <td>-1.265925e-01</td>\n",
       "      <td>0.991955</td>\n",
       "      <td>6.156252</td>\n",
       "    </tr>\n",
       "    <tr>\n",
       "      <th>98</th>\n",
       "      <td>6.219719</td>\n",
       "      <td>-6.342392e-02</td>\n",
       "      <td>0.997987</td>\n",
       "      <td>6.219719</td>\n",
       "    </tr>\n",
       "    <tr>\n",
       "      <th>99</th>\n",
       "      <td>6.283185</td>\n",
       "      <td>-2.449294e-16</td>\n",
       "      <td>1.000000</td>\n",
       "      <td>6.283185</td>\n",
       "    </tr>\n",
       "  </tbody>\n",
       "</table>\n",
       "</div>"
      ],
      "text/plain": [
       "           x           sin       cos    x-data\n",
       "95  6.029319 -2.511480e-01  0.967949  6.029319\n",
       "96  6.092786 -1.892512e-01  0.981929  6.092786\n",
       "97  6.156252 -1.265925e-01  0.991955  6.156252\n",
       "98  6.219719 -6.342392e-02  0.997987  6.219719\n",
       "99  6.283185 -2.449294e-16  1.000000  6.283185"
      ]
     },
     "execution_count": 30,
     "metadata": {},
     "output_type": "execute_result"
    }
   ],
   "source": [
    "df.tail()"
   ]
  },
  {
   "cell_type": "code",
   "execution_count": 31,
   "id": "68df0c0a",
   "metadata": {},
   "outputs": [
    {
     "data": {
      "text/html": [
       "<div>\n",
       "<style scoped>\n",
       "    .dataframe tbody tr th:only-of-type {\n",
       "        vertical-align: middle;\n",
       "    }\n",
       "\n",
       "    .dataframe tbody tr th {\n",
       "        vertical-align: top;\n",
       "    }\n",
       "\n",
       "    .dataframe thead th {\n",
       "        text-align: right;\n",
       "    }\n",
       "</style>\n",
       "<table border=\"1\" class=\"dataframe\">\n",
       "  <thead>\n",
       "    <tr style=\"text-align: right;\">\n",
       "      <th></th>\n",
       "      <th>x</th>\n",
       "      <th>sin</th>\n",
       "      <th>cos</th>\n",
       "      <th>x-data</th>\n",
       "    </tr>\n",
       "  </thead>\n",
       "  <tbody>\n",
       "    <tr>\n",
       "      <th>count</th>\n",
       "      <td>100.000000</td>\n",
       "      <td>1.000000e+02</td>\n",
       "      <td>100.000000</td>\n",
       "      <td>100.000000</td>\n",
       "    </tr>\n",
       "    <tr>\n",
       "      <th>mean</th>\n",
       "      <td>3.141593</td>\n",
       "      <td>-1.244130e-17</td>\n",
       "      <td>0.010000</td>\n",
       "      <td>3.141593</td>\n",
       "    </tr>\n",
       "    <tr>\n",
       "      <th>std</th>\n",
       "      <td>1.841258</td>\n",
       "      <td>7.071068e-01</td>\n",
       "      <td>0.714143</td>\n",
       "      <td>1.841258</td>\n",
       "    </tr>\n",
       "    <tr>\n",
       "      <th>min</th>\n",
       "      <td>0.000000</td>\n",
       "      <td>-9.998741e-01</td>\n",
       "      <td>-0.999497</td>\n",
       "      <td>0.000000</td>\n",
       "    </tr>\n",
       "    <tr>\n",
       "      <th>25%</th>\n",
       "      <td>1.570796</td>\n",
       "      <td>-6.957328e-01</td>\n",
       "      <td>-0.701475</td>\n",
       "      <td>1.570796</td>\n",
       "    </tr>\n",
       "    <tr>\n",
       "      <th>50%</th>\n",
       "      <td>3.141593</td>\n",
       "      <td>-1.224647e-16</td>\n",
       "      <td>0.015858</td>\n",
       "      <td>3.141593</td>\n",
       "    </tr>\n",
       "    <tr>\n",
       "      <th>75%</th>\n",
       "      <td>4.712389</td>\n",
       "      <td>6.957328e-01</td>\n",
       "      <td>0.723734</td>\n",
       "      <td>4.712389</td>\n",
       "    </tr>\n",
       "    <tr>\n",
       "      <th>max</th>\n",
       "      <td>6.283185</td>\n",
       "      <td>9.998741e-01</td>\n",
       "      <td>1.000000</td>\n",
       "      <td>6.283185</td>\n",
       "    </tr>\n",
       "  </tbody>\n",
       "</table>\n",
       "</div>"
      ],
      "text/plain": [
       "                x           sin         cos      x-data\n",
       "count  100.000000  1.000000e+02  100.000000  100.000000\n",
       "mean     3.141593 -1.244130e-17    0.010000    3.141593\n",
       "std      1.841258  7.071068e-01    0.714143    1.841258\n",
       "min      0.000000 -9.998741e-01   -0.999497    0.000000\n",
       "25%      1.570796 -6.957328e-01   -0.701475    1.570796\n",
       "50%      3.141593 -1.224647e-16    0.015858    3.141593\n",
       "75%      4.712389  6.957328e-01    0.723734    4.712389\n",
       "max      6.283185  9.998741e-01    1.000000    6.283185"
      ]
     },
     "execution_count": 31,
     "metadata": {},
     "output_type": "execute_result"
    }
   ],
   "source": [
    "df.describe()"
   ]
  },
  {
   "cell_type": "code",
   "execution_count": 45,
   "id": "448a6752-1ffa-4657-ae77-3dfc1c44b9f6",
   "metadata": {},
   "outputs": [
    {
     "name": "stderr",
     "output_type": "stream",
     "text": [
      "/tmp/ipykernel_793286/120360617.py:1: FutureWarning: ChainedAssignmentError: behaviour will change in pandas 3.0!\n",
      "You are setting values through chained assignment. Currently this works in certain cases, but when using Copy-on-Write (which will become the default behaviour in pandas 3.0) this will never work to update the original DataFrame or Series, because the intermediate object on which we are setting values will behave as a copy.\n",
      "A typical example is when you are setting values in a column of a DataFrame, like:\n",
      "\n",
      "df[\"col\"][row_indexer] = value\n",
      "\n",
      "Use `df.loc[row_indexer, \"col\"] = values` instead, to perform the assignment in a single step and ensure this keeps updating the original `df`.\n",
      "\n",
      "See the caveats in the documentation: https://pandas.pydata.org/pandas-docs/stable/user_guide/indexing.html#returning-a-view-versus-a-copy\n",
      "\n",
      "  df.x[10] = 30000\n"
     ]
    }
   ],
   "source": [
    "df.x[10] = 30000"
   ]
  },
  {
   "cell_type": "code",
   "execution_count": 46,
   "id": "2c8d962a",
   "metadata": {},
   "outputs": [
    {
     "data": {
      "text/html": [
       "<div>\n",
       "<style scoped>\n",
       "    .dataframe tbody tr th:only-of-type {\n",
       "        vertical-align: middle;\n",
       "    }\n",
       "\n",
       "    .dataframe tbody tr th {\n",
       "        vertical-align: top;\n",
       "    }\n",
       "\n",
       "    .dataframe thead th {\n",
       "        text-align: right;\n",
       "    }\n",
       "</style>\n",
       "<table border=\"1\" class=\"dataframe\">\n",
       "  <thead>\n",
       "    <tr style=\"text-align: right;\">\n",
       "      <th></th>\n",
       "      <th>x</th>\n",
       "      <th>sin</th>\n",
       "      <th>cos</th>\n",
       "      <th>x-data</th>\n",
       "    </tr>\n",
       "  </thead>\n",
       "  <tbody>\n",
       "    <tr>\n",
       "      <th>10</th>\n",
       "      <td>30000.000000</td>\n",
       "      <td>0.592908</td>\n",
       "      <td>0.805270</td>\n",
       "      <td>0.634665</td>\n",
       "    </tr>\n",
       "    <tr>\n",
       "      <th>11</th>\n",
       "      <td>0.698132</td>\n",
       "      <td>0.642788</td>\n",
       "      <td>0.766044</td>\n",
       "      <td>0.698132</td>\n",
       "    </tr>\n",
       "    <tr>\n",
       "      <th>12</th>\n",
       "      <td>0.761598</td>\n",
       "      <td>0.690079</td>\n",
       "      <td>0.723734</td>\n",
       "      <td>0.761598</td>\n",
       "    </tr>\n",
       "  </tbody>\n",
       "</table>\n",
       "</div>"
      ],
      "text/plain": [
       "               x       sin       cos    x-data\n",
       "10  30000.000000  0.592908  0.805270  0.634665\n",
       "11      0.698132  0.642788  0.766044  0.698132\n",
       "12      0.761598  0.690079  0.723734  0.761598"
      ]
     },
     "execution_count": 46,
     "metadata": {},
     "output_type": "execute_result"
    }
   ],
   "source": [
    "df1 = df[10:13]\n",
    "df1.head()"
   ]
  },
  {
   "cell_type": "code",
   "execution_count": 47,
   "id": "eaac1af5",
   "metadata": {},
   "outputs": [
    {
     "name": "stderr",
     "output_type": "stream",
     "text": [
      "/tmp/ipykernel_793286/2564291318.py:1: FutureWarning: ChainedAssignmentError: behaviour will change in pandas 3.0!\n",
      "You are setting values through chained assignment. Currently this works in certain cases, but when using Copy-on-Write (which will become the default behaviour in pandas 3.0) this will never work to update the original DataFrame or Series, because the intermediate object on which we are setting values will behave as a copy.\n",
      "A typical example is when you are setting values in a column of a DataFrame, like:\n",
      "\n",
      "df[\"col\"][row_indexer] = value\n",
      "\n",
      "Use `df.loc[row_indexer, \"col\"] = values` instead, to perform the assignment in a single step and ensure this keeps updating the original `df`.\n",
      "\n",
      "See the caveats in the documentation: https://pandas.pydata.org/pandas-docs/stable/user_guide/indexing.html#returning-a-view-versus-a-copy\n",
      "\n",
      "  df1.x[0] = 3\n",
      "/tmp/ipykernel_793286/2564291318.py:1: SettingWithCopyWarning: \n",
      "A value is trying to be set on a copy of a slice from a DataFrame\n",
      "\n",
      "See the caveats in the documentation: https://pandas.pydata.org/pandas-docs/stable/user_guide/indexing.html#returning-a-view-versus-a-copy\n",
      "  df1.x[0] = 3\n"
     ]
    }
   ],
   "source": [
    "df1.x[0] = 3"
   ]
  },
  {
   "cell_type": "code",
   "execution_count": 48,
   "id": "7adcaba9-4116-4380-877f-a97830e859f2",
   "metadata": {},
   "outputs": [
    {
     "data": {
      "text/plain": [
       "np.float64(30000.0)"
      ]
     },
     "execution_count": 48,
     "metadata": {},
     "output_type": "execute_result"
    }
   ],
   "source": [
    "df.x[10]"
   ]
  },
  {
   "cell_type": "code",
   "execution_count": 34,
   "id": "1e2514c3",
   "metadata": {},
   "outputs": [
    {
     "data": {
      "text/plain": [
       "0     0.000000\n",
       "1     0.063467\n",
       "2     0.126933\n",
       "3     0.190400\n",
       "4     0.253866\n",
       "        ...   \n",
       "95    6.029319\n",
       "96    6.092786\n",
       "97    6.156252\n",
       "98    6.219719\n",
       "99    6.283185\n",
       "Name: x-data, Length: 100, dtype: float64"
      ]
     },
     "execution_count": 34,
     "metadata": {},
     "output_type": "execute_result"
    }
   ],
   "source": [
    "df['x-data']"
   ]
  },
  {
   "cell_type": "code",
   "execution_count": 35,
   "id": "28e92cdc",
   "metadata": {},
   "outputs": [
    {
     "data": {
      "text/plain": [
       "0     0.000000\n",
       "10    0.634665\n",
       "20    1.269330\n",
       "30    1.903996\n",
       "40    2.538661\n",
       "50    3.173326\n",
       "60    3.807991\n",
       "70    4.442656\n",
       "80    5.077321\n",
       "90    5.711987\n",
       "Name: x, dtype: float64"
      ]
     },
     "execution_count": 35,
     "metadata": {},
     "output_type": "execute_result"
    }
   ],
   "source": [
    "df.x[::10]"
   ]
  },
  {
   "cell_type": "code",
   "execution_count": 36,
   "id": "0557a469",
   "metadata": {},
   "outputs": [
    {
     "data": {
      "text/html": [
       "<div>\n",
       "<style scoped>\n",
       "    .dataframe tbody tr th:only-of-type {\n",
       "        vertical-align: middle;\n",
       "    }\n",
       "\n",
       "    .dataframe tbody tr th {\n",
       "        vertical-align: top;\n",
       "    }\n",
       "\n",
       "    .dataframe thead th {\n",
       "        text-align: right;\n",
       "    }\n",
       "</style>\n",
       "<table border=\"1\" class=\"dataframe\">\n",
       "  <thead>\n",
       "    <tr style=\"text-align: right;\">\n",
       "      <th></th>\n",
       "      <th>x</th>\n",
       "      <th>sin</th>\n",
       "      <th>cos</th>\n",
       "      <th>x-data</th>\n",
       "    </tr>\n",
       "  </thead>\n",
       "  <tbody>\n",
       "    <tr>\n",
       "      <th>count</th>\n",
       "      <td>3.000000</td>\n",
       "      <td>3.000000</td>\n",
       "      <td>3.000000</td>\n",
       "      <td>3.000000</td>\n",
       "    </tr>\n",
       "    <tr>\n",
       "      <th>mean</th>\n",
       "      <td>0.698132</td>\n",
       "      <td>0.641925</td>\n",
       "      <td>0.765016</td>\n",
       "      <td>0.698132</td>\n",
       "    </tr>\n",
       "    <tr>\n",
       "      <th>std</th>\n",
       "      <td>0.063467</td>\n",
       "      <td>0.048591</td>\n",
       "      <td>0.040778</td>\n",
       "      <td>0.063467</td>\n",
       "    </tr>\n",
       "    <tr>\n",
       "      <th>min</th>\n",
       "      <td>0.634665</td>\n",
       "      <td>0.592908</td>\n",
       "      <td>0.723734</td>\n",
       "      <td>0.634665</td>\n",
       "    </tr>\n",
       "    <tr>\n",
       "      <th>25%</th>\n",
       "      <td>0.666398</td>\n",
       "      <td>0.617848</td>\n",
       "      <td>0.744889</td>\n",
       "      <td>0.666398</td>\n",
       "    </tr>\n",
       "    <tr>\n",
       "      <th>50%</th>\n",
       "      <td>0.698132</td>\n",
       "      <td>0.642788</td>\n",
       "      <td>0.766044</td>\n",
       "      <td>0.698132</td>\n",
       "    </tr>\n",
       "    <tr>\n",
       "      <th>75%</th>\n",
       "      <td>0.729865</td>\n",
       "      <td>0.666433</td>\n",
       "      <td>0.785657</td>\n",
       "      <td>0.729865</td>\n",
       "    </tr>\n",
       "    <tr>\n",
       "      <th>max</th>\n",
       "      <td>0.761598</td>\n",
       "      <td>0.690079</td>\n",
       "      <td>0.805270</td>\n",
       "      <td>0.761598</td>\n",
       "    </tr>\n",
       "  </tbody>\n",
       "</table>\n",
       "</div>"
      ],
      "text/plain": [
       "              x       sin       cos    x-data\n",
       "count  3.000000  3.000000  3.000000  3.000000\n",
       "mean   0.698132  0.641925  0.765016  0.698132\n",
       "std    0.063467  0.048591  0.040778  0.063467\n",
       "min    0.634665  0.592908  0.723734  0.634665\n",
       "25%    0.666398  0.617848  0.744889  0.666398\n",
       "50%    0.698132  0.642788  0.766044  0.698132\n",
       "75%    0.729865  0.666433  0.785657  0.729865\n",
       "max    0.761598  0.690079  0.805270  0.761598"
      ]
     },
     "execution_count": 36,
     "metadata": {},
     "output_type": "execute_result"
    }
   ],
   "source": [
    "df1.describe()"
   ]
  },
  {
   "cell_type": "code",
   "execution_count": 37,
   "id": "1ed213dc",
   "metadata": {},
   "outputs": [
    {
     "data": {
      "text/plain": [
       "0    0.000000\n",
       "1    0.063467\n",
       "2    0.126933\n",
       "3    0.190400\n",
       "4    0.253866\n",
       "Name: x-data, dtype: float64"
      ]
     },
     "execution_count": 37,
     "metadata": {},
     "output_type": "execute_result"
    }
   ],
   "source": [
    "# df.x-data[:5] will not work!!\n",
    "df['x-data'][:5]"
   ]
  },
  {
   "cell_type": "code",
   "execution_count": 38,
   "id": "d0fe5a86",
   "metadata": {},
   "outputs": [
    {
     "data": {
      "text/plain": [
       "0    0.000000\n",
       "1    0.063467\n",
       "2    0.126933\n",
       "3    0.190400\n",
       "4    0.253866\n",
       "Name: x, dtype: float64"
      ]
     },
     "execution_count": 38,
     "metadata": {},
     "output_type": "execute_result"
    }
   ],
   "source": [
    "df['x'][:5]"
   ]
  },
  {
   "cell_type": "code",
   "execution_count": 39,
   "id": "17a99542",
   "metadata": {},
   "outputs": [
    {
     "data": {
      "text/plain": [
       "0    0.000000\n",
       "1    0.063467\n",
       "2    0.126933\n",
       "3    0.190400\n",
       "4    0.253866\n",
       "5    0.317333\n",
       "6    0.380799\n",
       "7    0.444266\n",
       "8    0.507732\n",
       "9    0.571199\n",
       "Name: x, dtype: float64"
      ]
     },
     "execution_count": 39,
     "metadata": {},
     "output_type": "execute_result"
    }
   ],
   "source": [
    "df.x[:10]"
   ]
  },
  {
   "cell_type": "code",
   "execution_count": 40,
   "id": "f30e3fda",
   "metadata": {},
   "outputs": [
    {
     "data": {
      "text/plain": [
       "Index(['x', 'sin', 'cos', 'x-data'], dtype='object')"
      ]
     },
     "execution_count": 40,
     "metadata": {},
     "output_type": "execute_result"
    }
   ],
   "source": [
    "df.columns"
   ]
  },
  {
   "cell_type": "code",
   "execution_count": 41,
   "id": "ccc4bbff",
   "metadata": {},
   "outputs": [
    {
     "data": {
      "text/plain": [
       "x         float64\n",
       "sin       float64\n",
       "cos       float64\n",
       "x-data    float64\n",
       "dtype: object"
      ]
     },
     "execution_count": 41,
     "metadata": {},
     "output_type": "execute_result"
    }
   ],
   "source": [
    "df.dtypes"
   ]
  },
  {
   "cell_type": "code",
   "execution_count": 43,
   "id": "47888ffb",
   "metadata": {},
   "outputs": [
    {
     "data": {
      "text/plain": [
       "100"
      ]
     },
     "execution_count": 43,
     "metadata": {},
     "output_type": "execute_result"
    }
   ],
   "source": [
    "len(df)"
   ]
  },
  {
   "cell_type": "code",
   "execution_count": 44,
   "id": "1dee5100",
   "metadata": {},
   "outputs": [
    {
     "data": {
      "text/plain": [
       "RangeIndex(start=0, stop=100, step=1)"
      ]
     },
     "execution_count": 44,
     "metadata": {},
     "output_type": "execute_result"
    }
   ],
   "source": [
    "df.index"
   ]
  },
  {
   "cell_type": "code",
   "execution_count": null,
   "id": "4e61b007",
   "metadata": {},
   "outputs": [],
   "source": [
    "df1 = df.copy()\n",
    "df1.head()"
   ]
  },
  {
   "cell_type": "markdown",
   "id": "d51e2d81",
   "metadata": {},
   "source": [
    "Indexing\n",
    "=========\n",
    "\n",
    "Can do what we did above but also using:\n",
    "\n",
    "- Select column: `df[col]`\n",
    "- Select row by label: `df.loc[label]`\n",
    "- Select row by numerical index: `df.iloc[integer]`\n",
    "- Slice rows: `df[3:13]`\n",
    "- Select rows by boolean vector: `df[bool_vec]`\n",
    "\n",
    "Shall explore this below.\n",
    "\n"
   ]
  },
  {
   "cell_type": "code",
   "execution_count": 49,
   "id": "da5584d0",
   "metadata": {},
   "outputs": [
    {
     "data": {
      "text/plain": [
       "0     0.000000\n",
       "1     0.063467\n",
       "2     0.126933\n",
       "3     0.190400\n",
       "4     0.253866\n",
       "        ...   \n",
       "95    6.029319\n",
       "96    6.092786\n",
       "97    6.156252\n",
       "98    6.219719\n",
       "99    6.283185\n",
       "Name: x, Length: 100, dtype: float64"
      ]
     },
     "execution_count": 49,
     "metadata": {},
     "output_type": "execute_result"
    }
   ],
   "source": [
    "df['x']  # Access a column"
   ]
  },
  {
   "cell_type": "code",
   "execution_count": 51,
   "id": "605cfc1b",
   "metadata": {},
   "outputs": [],
   "source": [
    "df.loc[10] = 0.1"
   ]
  },
  {
   "cell_type": "code",
   "execution_count": 52,
   "id": "a97a7caf",
   "metadata": {},
   "outputs": [],
   "source": [
    "j = pd.DataFrame(dict(x=[1, 2, 3], y=['hello', 'class', '2021']), index=list('abc'))"
   ]
  },
  {
   "cell_type": "code",
   "execution_count": 53,
   "id": "66d24cb6",
   "metadata": {},
   "outputs": [
    {
     "data": {
      "text/html": [
       "<div>\n",
       "<style scoped>\n",
       "    .dataframe tbody tr th:only-of-type {\n",
       "        vertical-align: middle;\n",
       "    }\n",
       "\n",
       "    .dataframe tbody tr th {\n",
       "        vertical-align: top;\n",
       "    }\n",
       "\n",
       "    .dataframe thead th {\n",
       "        text-align: right;\n",
       "    }\n",
       "</style>\n",
       "<table border=\"1\" class=\"dataframe\">\n",
       "  <thead>\n",
       "    <tr style=\"text-align: right;\">\n",
       "      <th></th>\n",
       "      <th>x</th>\n",
       "      <th>y</th>\n",
       "    </tr>\n",
       "  </thead>\n",
       "  <tbody>\n",
       "    <tr>\n",
       "      <th>a</th>\n",
       "      <td>1</td>\n",
       "      <td>hello</td>\n",
       "    </tr>\n",
       "    <tr>\n",
       "      <th>b</th>\n",
       "      <td>2</td>\n",
       "      <td>class</td>\n",
       "    </tr>\n",
       "    <tr>\n",
       "      <th>c</th>\n",
       "      <td>3</td>\n",
       "      <td>2021</td>\n",
       "    </tr>\n",
       "  </tbody>\n",
       "</table>\n",
       "</div>"
      ],
      "text/plain": [
       "   x      y\n",
       "a  1  hello\n",
       "b  2  class\n",
       "c  3   2021"
      ]
     },
     "execution_count": 53,
     "metadata": {},
     "output_type": "execute_result"
    }
   ],
   "source": [
    "j"
   ]
  },
  {
   "cell_type": "code",
   "execution_count": 55,
   "id": "17cc013a",
   "metadata": {},
   "outputs": [
    {
     "data": {
      "text/plain": [
       "x        1\n",
       "y    hello\n",
       "Name: a, dtype: object"
      ]
     },
     "execution_count": 55,
     "metadata": {},
     "output_type": "execute_result"
    }
   ],
   "source": [
    "j.loc['a']"
   ]
  },
  {
   "cell_type": "code",
   "execution_count": 56,
   "id": "173e86fb",
   "metadata": {},
   "outputs": [
    {
     "data": {
      "text/plain": [
       "x        1\n",
       "y    hello\n",
       "Name: a, dtype: object"
      ]
     },
     "execution_count": 56,
     "metadata": {},
     "output_type": "execute_result"
    }
   ],
   "source": [
    "j.iloc[0]"
   ]
  },
  {
   "cell_type": "code",
   "execution_count": 57,
   "id": "87c48c18",
   "metadata": {},
   "outputs": [
    {
     "data": {
      "text/html": [
       "<div>\n",
       "<style scoped>\n",
       "    .dataframe tbody tr th:only-of-type {\n",
       "        vertical-align: middle;\n",
       "    }\n",
       "\n",
       "    .dataframe tbody tr th {\n",
       "        vertical-align: top;\n",
       "    }\n",
       "\n",
       "    .dataframe thead th {\n",
       "        text-align: right;\n",
       "    }\n",
       "</style>\n",
       "<table border=\"1\" class=\"dataframe\">\n",
       "  <thead>\n",
       "    <tr style=\"text-align: right;\">\n",
       "      <th></th>\n",
       "      <th>x</th>\n",
       "      <th>y</th>\n",
       "    </tr>\n",
       "  </thead>\n",
       "  <tbody>\n",
       "    <tr>\n",
       "      <th>b</th>\n",
       "      <td>2</td>\n",
       "      <td>class</td>\n",
       "    </tr>\n",
       "    <tr>\n",
       "      <th>c</th>\n",
       "      <td>3</td>\n",
       "      <td>2021</td>\n",
       "    </tr>\n",
       "  </tbody>\n",
       "</table>\n",
       "</div>"
      ],
      "text/plain": [
       "   x      y\n",
       "b  2  class\n",
       "c  3   2021"
      ]
     },
     "execution_count": 57,
     "metadata": {},
     "output_type": "execute_result"
    }
   ],
   "source": [
    "j[1:3]"
   ]
  },
  {
   "cell_type": "markdown",
   "id": "c5bf11f4",
   "metadata": {},
   "source": [
    "- Give me a data frame, where all cosine values are >0."
   ]
  },
  {
   "cell_type": "code",
   "execution_count": 58,
   "id": "06b0407f",
   "metadata": {},
   "outputs": [
    {
     "data": {
      "text/html": [
       "<div>\n",
       "<style scoped>\n",
       "    .dataframe tbody tr th:only-of-type {\n",
       "        vertical-align: middle;\n",
       "    }\n",
       "\n",
       "    .dataframe tbody tr th {\n",
       "        vertical-align: top;\n",
       "    }\n",
       "\n",
       "    .dataframe thead th {\n",
       "        text-align: right;\n",
       "    }\n",
       "</style>\n",
       "<table border=\"1\" class=\"dataframe\">\n",
       "  <thead>\n",
       "    <tr style=\"text-align: right;\">\n",
       "      <th></th>\n",
       "      <th>x</th>\n",
       "      <th>sin</th>\n",
       "      <th>cos</th>\n",
       "      <th>x-data</th>\n",
       "    </tr>\n",
       "  </thead>\n",
       "  <tbody>\n",
       "    <tr>\n",
       "      <th>0</th>\n",
       "      <td>0.000000</td>\n",
       "      <td>0.000000</td>\n",
       "      <td>1.000000</td>\n",
       "      <td>0.000000</td>\n",
       "    </tr>\n",
       "    <tr>\n",
       "      <th>1</th>\n",
       "      <td>0.063467</td>\n",
       "      <td>0.063424</td>\n",
       "      <td>0.997987</td>\n",
       "      <td>0.063467</td>\n",
       "    </tr>\n",
       "    <tr>\n",
       "      <th>2</th>\n",
       "      <td>0.126933</td>\n",
       "      <td>0.126592</td>\n",
       "      <td>0.991955</td>\n",
       "      <td>0.126933</td>\n",
       "    </tr>\n",
       "    <tr>\n",
       "      <th>3</th>\n",
       "      <td>0.190400</td>\n",
       "      <td>0.189251</td>\n",
       "      <td>0.981929</td>\n",
       "      <td>0.190400</td>\n",
       "    </tr>\n",
       "    <tr>\n",
       "      <th>4</th>\n",
       "      <td>0.253866</td>\n",
       "      <td>0.251148</td>\n",
       "      <td>0.967949</td>\n",
       "      <td>0.253866</td>\n",
       "    </tr>\n",
       "  </tbody>\n",
       "</table>\n",
       "</div>"
      ],
      "text/plain": [
       "          x       sin       cos    x-data\n",
       "0  0.000000  0.000000  1.000000  0.000000\n",
       "1  0.063467  0.063424  0.997987  0.063467\n",
       "2  0.126933  0.126592  0.991955  0.126933\n",
       "3  0.190400  0.189251  0.981929  0.190400\n",
       "4  0.253866  0.251148  0.967949  0.253866"
      ]
     },
     "execution_count": 58,
     "metadata": {},
     "output_type": "execute_result"
    }
   ],
   "source": [
    "df.head()"
   ]
  },
  {
   "cell_type": "code",
   "execution_count": null,
   "id": "7021b696",
   "metadata": {},
   "outputs": [],
   "source": []
  },
  {
   "cell_type": "code",
   "execution_count": 59,
   "id": "33de1228",
   "metadata": {},
   "outputs": [
    {
     "data": {
      "text/plain": [
       "array([10. , 10.1, 10.2, 10.3, 10.4, 10.5, 10.6, 10.7, 10.8, 10.9, 11. ])"
      ]
     },
     "execution_count": 59,
     "metadata": {},
     "output_type": "execute_result"
    }
   ],
   "source": [
    "y = np.linspace(10, 11, 11)\n",
    "y"
   ]
  },
  {
   "cell_type": "code",
   "execution_count": 60,
   "id": "b030f9a0",
   "metadata": {},
   "outputs": [
    {
     "data": {
      "text/plain": [
       "array([False, False, False, False, False, False,  True,  True,  True,\n",
       "        True,  True])"
      ]
     },
     "execution_count": 60,
     "metadata": {},
     "output_type": "execute_result"
    }
   ],
   "source": [
    "y > 10.5"
   ]
  },
  {
   "cell_type": "code",
   "execution_count": null,
   "id": "98906051",
   "metadata": {},
   "outputs": [],
   "source": [
    "y + 1"
   ]
  },
  {
   "cell_type": "code",
   "execution_count": 61,
   "id": "7d760cb4",
   "metadata": {},
   "outputs": [
    {
     "data": {
      "text/plain": [
       "array([10.6, 10.7, 10.8, 10.9, 11. ])"
      ]
     },
     "execution_count": 61,
     "metadata": {},
     "output_type": "execute_result"
    }
   ],
   "source": [
    "cond = y > 10.5\n",
    "y[cond]"
   ]
  },
  {
   "cell_type": "markdown",
   "id": "1ad62fbb",
   "metadata": {},
   "source": [
    "- Done with the numpy aside here, back to pandas"
   ]
  },
  {
   "cell_type": "code",
   "execution_count": 62,
   "id": "48e06fec",
   "metadata": {},
   "outputs": [
    {
     "name": "stdout",
     "output_type": "stream",
     "text": [
      "100\n"
     ]
    }
   ],
   "source": [
    "condition = df.cos > 0.0\n",
    "print(len(condition))"
   ]
  },
  {
   "cell_type": "code",
   "execution_count": 63,
   "id": "789fe347",
   "metadata": {},
   "outputs": [
    {
     "data": {
      "text/html": [
       "<div>\n",
       "<style scoped>\n",
       "    .dataframe tbody tr th:only-of-type {\n",
       "        vertical-align: middle;\n",
       "    }\n",
       "\n",
       "    .dataframe tbody tr th {\n",
       "        vertical-align: top;\n",
       "    }\n",
       "\n",
       "    .dataframe thead th {\n",
       "        text-align: right;\n",
       "    }\n",
       "</style>\n",
       "<table border=\"1\" class=\"dataframe\">\n",
       "  <thead>\n",
       "    <tr style=\"text-align: right;\">\n",
       "      <th></th>\n",
       "      <th>x</th>\n",
       "      <th>sin</th>\n",
       "      <th>cos</th>\n",
       "      <th>x-data</th>\n",
       "    </tr>\n",
       "  </thead>\n",
       "  <tbody>\n",
       "    <tr>\n",
       "      <th>count</th>\n",
       "      <td>50.000000</td>\n",
       "      <td>5.000000e+01</td>\n",
       "      <td>50.000000</td>\n",
       "      <td>50.000000</td>\n",
       "    </tr>\n",
       "    <tr>\n",
       "      <th>mean</th>\n",
       "      <td>3.130899</td>\n",
       "      <td>-9.858159e-03</td>\n",
       "      <td>0.636175</td>\n",
       "      <td>3.130899</td>\n",
       "    </tr>\n",
       "    <tr>\n",
       "      <th>std</th>\n",
       "      <td>2.460514</td>\n",
       "      <td>6.984454e-01</td>\n",
       "      <td>0.315445</td>\n",
       "      <td>2.460514</td>\n",
       "    </tr>\n",
       "    <tr>\n",
       "      <th>min</th>\n",
       "      <td>0.000000</td>\n",
       "      <td>-9.988673e-01</td>\n",
       "      <td>0.047582</td>\n",
       "      <td>0.000000</td>\n",
       "    </tr>\n",
       "    <tr>\n",
       "      <th>25%</th>\n",
       "      <td>0.777465</td>\n",
       "      <td>-6.782562e-01</td>\n",
       "      <td>0.371518</td>\n",
       "      <td>0.777465</td>\n",
       "    </tr>\n",
       "    <tr>\n",
       "      <th>50%</th>\n",
       "      <td>3.141593</td>\n",
       "      <td>-1.224647e-16</td>\n",
       "      <td>0.701122</td>\n",
       "      <td>3.141593</td>\n",
       "    </tr>\n",
       "    <tr>\n",
       "      <th>75%</th>\n",
       "      <td>5.505720</td>\n",
       "      <td>6.782562e-01</td>\n",
       "      <td>0.928368</td>\n",
       "      <td>5.505720</td>\n",
       "    </tr>\n",
       "    <tr>\n",
       "      <th>max</th>\n",
       "      <td>6.283185</td>\n",
       "      <td>9.988673e-01</td>\n",
       "      <td>1.000000</td>\n",
       "      <td>6.283185</td>\n",
       "    </tr>\n",
       "  </tbody>\n",
       "</table>\n",
       "</div>"
      ],
      "text/plain": [
       "               x           sin        cos     x-data\n",
       "count  50.000000  5.000000e+01  50.000000  50.000000\n",
       "mean    3.130899 -9.858159e-03   0.636175   3.130899\n",
       "std     2.460514  6.984454e-01   0.315445   2.460514\n",
       "min     0.000000 -9.988673e-01   0.047582   0.000000\n",
       "25%     0.777465 -6.782562e-01   0.371518   0.777465\n",
       "50%     3.141593 -1.224647e-16   0.701122   3.141593\n",
       "75%     5.505720  6.782562e-01   0.928368   5.505720\n",
       "max     6.283185  9.988673e-01   1.000000   6.283185"
      ]
     },
     "execution_count": 63,
     "metadata": {},
     "output_type": "execute_result"
    }
   ],
   "source": [
    "df_positive_cos = df[condition]\n",
    "df_positive_cos.describe()"
   ]
  },
  {
   "cell_type": "code",
   "execution_count": null,
   "id": "a901bb8d",
   "metadata": {},
   "outputs": [],
   "source": [
    "# Combining conditionals\n",
    "cond1 = df.sin > 0.0\n",
    "df_all_positive = df[condition & cond1]\n",
    "df_all_positive.describe()"
   ]
  },
  {
   "cell_type": "code",
   "execution_count": null,
   "id": "c09a77ce",
   "metadata": {},
   "outputs": [],
   "source": [
    "# Always, always use brackets when combining conditionals with bitwise operations.\n",
    "df_all_positive = df[(df.cos > 0.0) & (df.sin > 0)]\n",
    "df_all_positive.describe()"
   ]
  },
  {
   "cell_type": "code",
   "execution_count": null,
   "id": "631bf90c",
   "metadata": {},
   "outputs": [],
   "source": [
    "# Use ~ for inverting the boolean as a Not\n",
    "c = np.array([True, False, True, False])\n",
    "c1 = np.array([False, True, False, False])\n",
    "~(c | c1)"
   ]
  },
  {
   "cell_type": "code",
   "execution_count": null,
   "id": "d8d3530b",
   "metadata": {},
   "outputs": [],
   "source": [
    "cond1 = df_positive_cos.sin > 0.0\n",
    "df_all_positive = df_positive_cos[cond1]\n",
    "df_all_positive.describe()"
   ]
  },
  {
   "cell_type": "code",
   "execution_count": null,
   "id": "6fa0eb53",
   "metadata": {},
   "outputs": [],
   "source": [
    "j"
   ]
  },
  {
   "cell_type": "code",
   "execution_count": null,
   "id": "1ad2a71c",
   "metadata": {},
   "outputs": [],
   "source": [
    "j1 = pd.DataFrame(dict(x=[1, 2, 3, 4], y=['hello', 'class', '2025', 'junk']), \n",
    "                 index=list('abcd'))"
   ]
  },
  {
   "cell_type": "code",
   "execution_count": null,
   "id": "89513995",
   "metadata": {},
   "outputs": [],
   "source": [
    "j1"
   ]
  },
  {
   "cell_type": "code",
   "execution_count": null,
   "id": "dbf958d5",
   "metadata": {},
   "outputs": [],
   "source": [
    "j[j1.x < 2]"
   ]
  },
  {
   "cell_type": "code",
   "execution_count": null,
   "id": "c75c7080",
   "metadata": {},
   "outputs": [],
   "source": []
  },
  {
   "cell_type": "code",
   "execution_count": null,
   "id": "0982b07a",
   "metadata": {},
   "outputs": [],
   "source": [
    "# This adds a new column sincos\n",
    "df['sincos'] = df.sin*df.cos\n",
    "len(df.sincos)"
   ]
  },
  {
   "cell_type": "code",
   "execution_count": null,
   "id": "ac428e13",
   "metadata": {},
   "outputs": [],
   "source": [
    "df.describe()"
   ]
  },
  {
   "cell_type": "code",
   "execution_count": null,
   "id": "90d93b44",
   "metadata": {},
   "outputs": [],
   "source": [
    "if 'x-data' in df:\n",
    "    del df['x-data']\n",
    "df.head()"
   ]
  },
  {
   "cell_type": "markdown",
   "id": "7bde4fc5",
   "metadata": {},
   "source": [
    "Plotting\n",
    "========="
   ]
  },
  {
   "cell_type": "code",
   "execution_count": null,
   "id": "9ea7d8a0",
   "metadata": {},
   "outputs": [],
   "source": [
    "df.plot();\n",
    "# or\n",
    "#df.plot.line()"
   ]
  },
  {
   "cell_type": "markdown",
   "id": "42b861d1",
   "metadata": {},
   "source": [
    "Notice that everything is plotted w.r.t. the index!\n",
    "Let us fix this!"
   ]
  },
  {
   "cell_type": "code",
   "execution_count": null,
   "id": "2110d86c",
   "metadata": {},
   "outputs": [],
   "source": [
    "df.plot.line(x='x', y=['sin', 'cos']);"
   ]
  },
  {
   "cell_type": "code",
   "execution_count": null,
   "id": "00346e4b",
   "metadata": {},
   "outputs": [],
   "source": [
    "# See what this does\n",
    "df[(df.sin > 0.0) ^ (df.cos < 0.0)].plot.line(x='x', marker='o');"
   ]
  },
  {
   "cell_type": "code",
   "execution_count": null,
   "id": "560862b4",
   "metadata": {},
   "outputs": [],
   "source": [
    "df.plot.hist(y='cos');\n",
    "# or\n",
    "#df.plot(y='cos', kind='hist')"
   ]
  },
  {
   "cell_type": "markdown",
   "id": "50c35dc6",
   "metadata": {},
   "source": [
    "Input and output CSV and other file formats\n",
    "--------------------------------------------\n",
    "\n",
    "- `pd.read_csv()`\n",
    "- `df.to_csv()`\n",
    "- Can read/save to clip board.\n",
    "- Directly read from URLs."
   ]
  },
  {
   "cell_type": "code",
   "execution_count": null,
   "id": "a49ba55b",
   "metadata": {},
   "outputs": [],
   "source": [
    "df.to_csv('sincos.csv', index=False)"
   ]
  },
  {
   "cell_type": "code",
   "execution_count": null,
   "id": "8c871ae4",
   "metadata": {},
   "outputs": [],
   "source": [
    "df1 = pd.read_csv('sincos.csv')\n",
    "df1.head()"
   ]
  },
  {
   "cell_type": "code",
   "execution_count": null,
   "id": "c2076add",
   "metadata": {},
   "outputs": [],
   "source": [
    "%pycat sincos.csv"
   ]
  },
  {
   "cell_type": "code",
   "execution_count": null,
   "id": "c7d71114",
   "metadata": {},
   "outputs": [],
   "source": []
  },
  {
   "cell_type": "markdown",
   "id": "2b4194b0",
   "metadata": {},
   "source": [
    "### Conversion to LaTeX and HTML"
   ]
  },
  {
   "cell_type": "code",
   "execution_count": null,
   "id": "e39f3a6a",
   "metadata": {},
   "outputs": [],
   "source": [
    "print(df[:5].to_latex())"
   ]
  },
  {
   "cell_type": "code",
   "execution_count": null,
   "id": "2b1a6ae3",
   "metadata": {},
   "outputs": [],
   "source": [
    "print(df[:5].to_latex(index=False))"
   ]
  },
  {
   "cell_type": "code",
   "execution_count": null,
   "id": "94b0f1e1",
   "metadata": {},
   "outputs": [],
   "source": [
    "print(df[:5].to_html())"
   ]
  },
  {
   "cell_type": "code",
   "execution_count": null,
   "id": "49112dbc",
   "metadata": {},
   "outputs": [],
   "source": [
    "from IPython.display import HTML\n",
    "HTML(df[:5].to_html())"
   ]
  },
  {
   "cell_type": "markdown",
   "id": "9d852c7a",
   "metadata": {},
   "source": [
    "Selecting from the clipboard\n",
    "=============================\n",
    "\n",
    "- Let us select data from our previous sincos:\n",
    "\n",
    "Select some data and then do this:\n"
   ]
  },
  {
   "cell_type": "code",
   "execution_count": null,
   "id": "093c3a47",
   "metadata": {},
   "outputs": [],
   "source": [
    "df2 = pd.read_clipboard(sep=',')\n",
    "df2"
   ]
  },
  {
   "cell_type": "code",
   "execution_count": null,
   "id": "0d78094c",
   "metadata": {},
   "outputs": [],
   "source": [
    "#url = 'https://www.aero.iitb.ac.in/~prabhu/tmp/sslc_small.csv'\n",
    "url = 'https://drive.google.com/uc?id=1VgrBnWERE9YLslOoCLu8ZFLRbUu4jOED'\n",
    "df = pd.read_csv(url, sep=';')"
   ]
  },
  {
   "cell_type": "code",
   "execution_count": null,
   "id": "fdf7131e",
   "metadata": {},
   "outputs": [],
   "source": [
    "df.head()"
   ]
  },
  {
   "cell_type": "code",
   "execution_count": null,
   "id": "23df1cce",
   "metadata": {},
   "outputs": [],
   "source": [
    "df.head()"
   ]
  },
  {
   "cell_type": "code",
   "execution_count": null,
   "id": "d811a5cc",
   "metadata": {},
   "outputs": [],
   "source": [
    "df.describe()"
   ]
  },
  {
   "cell_type": "code",
   "execution_count": null,
   "id": "b3d7b879",
   "metadata": {},
   "outputs": [],
   "source": [
    "pd.read_csv?"
   ]
  },
  {
   "cell_type": "markdown",
   "id": "9b8ce5b8",
   "metadata": {},
   "source": [
    "Exercise\n",
    "---------\n",
    "\n",
    "\n",
    "Consider a smaller file:\n",
    "\n",
    "- File is at: http://www.aero.iitb.ac.in/~prabhu/tmp/sslc_small.csv\n",
    "- Also in the files section\n"
   ]
  },
  {
   "cell_type": "code",
   "execution_count": 3,
   "id": "509a2712",
   "metadata": {},
   "outputs": [
    {
     "data": {
      "text/html": [
       "<div>\n",
       "<style scoped>\n",
       "    .dataframe tbody tr th:only-of-type {\n",
       "        vertical-align: middle;\n",
       "    }\n",
       "\n",
       "    .dataframe tbody tr th {\n",
       "        vertical-align: top;\n",
       "    }\n",
       "\n",
       "    .dataframe thead th {\n",
       "        text-align: right;\n",
       "    }\n",
       "</style>\n",
       "<table border=\"1\" class=\"dataframe\">\n",
       "  <thead>\n",
       "    <tr style=\"text-align: right;\">\n",
       "      <th></th>\n",
       "      <th>region;roll_number;name;fl;sl;math;sci;ss;total;pass;withheld;extra</th>\n",
       "    </tr>\n",
       "  </thead>\n",
       "  <tbody>\n",
       "    <tr>\n",
       "      <th>0</th>\n",
       "      <td>A;010001;T N;053;036;28;16;44;177;;;</td>\n",
       "    </tr>\n",
       "    <tr>\n",
       "      <th>1</th>\n",
       "      <td>A;010002;A R;058;037;42;35;40;212;P;;</td>\n",
       "    </tr>\n",
       "    <tr>\n",
       "      <th>2</th>\n",
       "      <td>A;010003;A M;072;056;71;55;70;324;P;;</td>\n",
       "    </tr>\n",
       "    <tr>\n",
       "      <th>3</th>\n",
       "      <td>A;010004;S A;087;064;83;58;65;357;P;;</td>\n",
       "    </tr>\n",
       "    <tr>\n",
       "      <th>4</th>\n",
       "      <td>A;010005;N A;059;045;50;35;48;237;P;;</td>\n",
       "    </tr>\n",
       "  </tbody>\n",
       "</table>\n",
       "</div>"
      ],
      "text/plain": [
       "  region;roll_number;name;fl;sl;math;sci;ss;total;pass;withheld;extra\n",
       "0               A;010001;T N;053;036;28;16;44;177;;;                 \n",
       "1              A;010002;A R;058;037;42;35;40;212;P;;                 \n",
       "2              A;010003;A M;072;056;71;55;70;324;P;;                 \n",
       "3              A;010004;S A;087;064;83;58;65;357;P;;                 \n",
       "4              A;010005;N A;059;045;50;35;48;237;P;;                 "
      ]
     },
     "execution_count": 3,
     "metadata": {},
     "output_type": "execute_result"
    }
   ],
   "source": [
    "url = 'http://www.aero.iitb.ac.in/~prabhu/tmp/sslc_small.csv'\n",
    "df = pd.read_csv(url)\n",
    "df.head()  # Produces only one strange column of data!"
   ]
  },
  {
   "cell_type": "code",
   "execution_count": null,
   "id": "e7b8deeb",
   "metadata": {},
   "outputs": [],
   "source": [
    "df.dtypes"
   ]
  },
  {
   "cell_type": "markdown",
   "id": "1c6e7e1c",
   "metadata": {},
   "source": [
    "Notice that this data is read incorrectly, this is because the separator is not a comma but a ';' so use this."
   ]
  },
  {
   "cell_type": "code",
   "execution_count": null,
   "id": "f57e71e5",
   "metadata": {},
   "outputs": [],
   "source": [
    "df = pd.read_csv(url, sep=';')\n",
    "df.head()\n"
   ]
  },
  {
   "cell_type": "code",
   "execution_count": null,
   "id": "905dc82d",
   "metadata": {},
   "outputs": [],
   "source": [
    "df['region'].value_counts()"
   ]
  },
  {
   "cell_type": "code",
   "execution_count": null,
   "id": "e495a64e",
   "metadata": {},
   "outputs": [],
   "source": [
    "df.plot.scatter(x='fl', y='math');"
   ]
  },
  {
   "cell_type": "markdown",
   "id": "3840a343",
   "metadata": {},
   "source": [
    "There are more options to `pd.read_csv`, for example if `'AA'` is a value indicating a non-existing value you can pass an option, called `na_values`.  Read more on the documentation for `read_csv`."
   ]
  },
  {
   "cell_type": "code",
   "execution_count": 5,
   "id": "9453446a",
   "metadata": {},
   "outputs": [
    {
     "data": {
      "text/html": [
       "<div>\n",
       "<style scoped>\n",
       "    .dataframe tbody tr th:only-of-type {\n",
       "        vertical-align: middle;\n",
       "    }\n",
       "\n",
       "    .dataframe tbody tr th {\n",
       "        vertical-align: top;\n",
       "    }\n",
       "\n",
       "    .dataframe thead th {\n",
       "        text-align: right;\n",
       "    }\n",
       "</style>\n",
       "<table border=\"1\" class=\"dataframe\">\n",
       "  <thead>\n",
       "    <tr style=\"text-align: right;\">\n",
       "      <th></th>\n",
       "      <th>region</th>\n",
       "      <th>roll_number</th>\n",
       "      <th>name</th>\n",
       "      <th>sl</th>\n",
       "      <th>fl</th>\n",
       "      <th>math</th>\n",
       "      <th>sci</th>\n",
       "      <th>ss</th>\n",
       "      <th>total</th>\n",
       "      <th>pass</th>\n",
       "      <th>withheld</th>\n",
       "      <th>extra</th>\n",
       "    </tr>\n",
       "  </thead>\n",
       "  <tbody>\n",
       "    <tr>\n",
       "      <th>0</th>\n",
       "      <td>A</td>\n",
       "      <td>10001</td>\n",
       "      <td>DISMA J SURUTHY</td>\n",
       "      <td>53.0</td>\n",
       "      <td>36.0</td>\n",
       "      <td>28.0</td>\n",
       "      <td>16.0</td>\n",
       "      <td>44.0</td>\n",
       "      <td>177.0</td>\n",
       "      <td>NaN</td>\n",
       "      <td>NaN</td>\n",
       "      <td>NaN</td>\n",
       "    </tr>\n",
       "    <tr>\n",
       "      <th>1</th>\n",
       "      <td>A</td>\n",
       "      <td>10002</td>\n",
       "      <td>PARVIN M</td>\n",
       "      <td>58.0</td>\n",
       "      <td>37.0</td>\n",
       "      <td>42.0</td>\n",
       "      <td>35.0</td>\n",
       "      <td>40.0</td>\n",
       "      <td>212.0</td>\n",
       "      <td>P</td>\n",
       "      <td>NaN</td>\n",
       "      <td>NaN</td>\n",
       "    </tr>\n",
       "    <tr>\n",
       "      <th>2</th>\n",
       "      <td>A</td>\n",
       "      <td>10003</td>\n",
       "      <td>MANIKANDAN M</td>\n",
       "      <td>72.0</td>\n",
       "      <td>56.0</td>\n",
       "      <td>71.0</td>\n",
       "      <td>55.0</td>\n",
       "      <td>70.0</td>\n",
       "      <td>324.0</td>\n",
       "      <td>P</td>\n",
       "      <td>NaN</td>\n",
       "      <td>NaN</td>\n",
       "    </tr>\n",
       "    <tr>\n",
       "      <th>3</th>\n",
       "      <td>A</td>\n",
       "      <td>10004</td>\n",
       "      <td>PRABU R</td>\n",
       "      <td>87.0</td>\n",
       "      <td>64.0</td>\n",
       "      <td>83.0</td>\n",
       "      <td>58.0</td>\n",
       "      <td>65.0</td>\n",
       "      <td>357.0</td>\n",
       "      <td>P</td>\n",
       "      <td>NaN</td>\n",
       "      <td>NaN</td>\n",
       "    </tr>\n",
       "    <tr>\n",
       "      <th>4</th>\n",
       "      <td>A</td>\n",
       "      <td>10005</td>\n",
       "      <td>ARUNRAJ K</td>\n",
       "      <td>59.0</td>\n",
       "      <td>45.0</td>\n",
       "      <td>50.0</td>\n",
       "      <td>35.0</td>\n",
       "      <td>48.0</td>\n",
       "      <td>237.0</td>\n",
       "      <td>P</td>\n",
       "      <td>NaN</td>\n",
       "      <td>NaN</td>\n",
       "    </tr>\n",
       "  </tbody>\n",
       "</table>\n",
       "</div>"
      ],
      "text/plain": [
       "  region  roll_number             name    sl    fl  math   sci    ss  total  \\\n",
       "0      A        10001  DISMA J SURUTHY  53.0  36.0  28.0  16.0  44.0  177.0   \n",
       "1      A        10002         PARVIN M  58.0  37.0  42.0  35.0  40.0  212.0   \n",
       "2      A        10003     MANIKANDAN M  72.0  56.0  71.0  55.0  70.0  324.0   \n",
       "3      A        10004          PRABU R  87.0  64.0  83.0  58.0  65.0  357.0   \n",
       "4      A        10005        ARUNRAJ K  59.0  45.0  50.0  35.0  48.0  237.0   \n",
       "\n",
       "  pass withheld  extra  \n",
       "0  NaN      NaN    NaN  \n",
       "1    P      NaN    NaN  \n",
       "2    P      NaN    NaN  \n",
       "3    P      NaN    NaN  \n",
       "4    P      NaN    NaN  "
      ]
     },
     "execution_count": 5,
     "metadata": {},
     "output_type": "execute_result"
    }
   ],
   "source": [
    "#df = pd.read_csv('sslc1.csv.gz', sep=';', na_values='AA')\n",
    "url = 'http://www.aero.iitb.ac.in/~prabhu/tmp/sslc1.csv.gz'\n",
    "df = pd.read_csv(url, sep=';', na_values='AA')\n",
    "df.head()"
   ]
  },
  {
   "cell_type": "code",
   "execution_count": null,
   "id": "c333cec0",
   "metadata": {},
   "outputs": [],
   "source": [
    "df.describe()"
   ]
  },
  {
   "cell_type": "code",
   "execution_count": null,
   "id": "aea18248",
   "metadata": {},
   "outputs": [],
   "source": [
    "df.plot.hist(y='sl');"
   ]
  },
  {
   "cell_type": "markdown",
   "id": "3e4a745e",
   "metadata": {},
   "source": [
    "More information\n",
    "==================\n",
    "\n",
    "- http://pandas.pydata.org\n",
    "- Go through the tutorials here:\n",
    "\n",
    "http://nbviewer.jupyter.org/github/jvns/pandas-cookbook/tree/v0.1/cookbook/\n",
    "\n",
    "- Go over chapter 1 to 7."
   ]
  }
 ],
 "metadata": {
  "kernelspec": {
   "display_name": "Python 3 (ipykernel)",
   "language": "python",
   "name": "python3"
  },
  "language_info": {
   "codemirror_mode": {
    "name": "ipython",
    "version": 3
   },
   "file_extension": ".py",
   "mimetype": "text/x-python",
   "name": "python",
   "nbconvert_exporter": "python",
   "pygments_lexer": "ipython3",
   "version": "3.11.11"
  }
 },
 "nbformat": 4,
 "nbformat_minor": 5
}
